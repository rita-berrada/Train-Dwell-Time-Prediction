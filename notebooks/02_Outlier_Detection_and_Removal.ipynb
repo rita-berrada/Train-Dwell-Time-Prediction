{
  "cells": [
    {
      "cell_type": "code",
      "execution_count": null,
      "id": "cc879727",
      "metadata": {
        "id": "cc879727"
      },
      "outputs": [],
      "source": [
        "# Import libraries\n",
        "import pandas as pd\n",
        "import numpy as np\n",
        "import matplotlib.pyplot as plt\n",
        "import seaborn as sns\n",
        "import math\n",
        "import plotly.graph_objects as go\n",
        "from datetime import datetime"
      ]
    },
    {
      "cell_type": "code",
      "execution_count": null,
      "id": "dacae3fc",
      "metadata": {
        "id": "dacae3fc",
        "outputId": "4003a4c1-7112-4c7c-c74b-7764edf8fdfd"
      },
      "outputs": [
        {
          "name": "stdout",
          "output_type": "stream",
          "text": [
            "Original dataset: 693 trains\n",
            "Train set (before 2024): 543 trains\n",
            "Test set (2024+): 150 trains\n"
          ]
        }
      ],
      "source": [
        "# Load data\n",
        "df = pd.read_excel('ML_LC_DEST_Refined_V1.xlsx')\n",
        "\n",
        "# Extract date from TRAIN_ID\n",
        "df['DATE'] = pd.to_datetime(df['TD'].str.extract(r'(\\d{4}-\\d{2}-\\d{2})')[0])\n",
        "\n",
        "# Split into train and test\n",
        "split_date = pd.to_datetime('2024-01-01')\n",
        "train_df = df[df['DATE'] < split_date].copy()\n",
        "test_df = df[df['DATE'] >= split_date].copy()\n",
        "\n",
        "print(f\"Original dataset: {df['TRAIN_ID'].nunique()} trains\")\n",
        "print(f\"Train set (before 2024): {train_df['TRAIN_ID'].nunique()} trains\")\n",
        "print(f\"Test set (2024+): {test_df['TRAIN_ID'].nunique()} trains\")"
      ]
    },
    {
      "cell_type": "code",
      "execution_count": null,
      "id": "f53feafd",
      "metadata": {
        "id": "f53feafd",
        "outputId": "18fb9b78-d46a-4503-d219-6983042f6198"
      },
      "outputs": [
        {
          "name": "stdout",
          "output_type": "stream",
          "text": [
            "Number of bins created: 54\n"
          ]
        },
        {
          "data": {
            "text/html": [
              "<div>\n",
              "<style scoped>\n",
              "    .dataframe tbody tr th:only-of-type {\n",
              "        vertical-align: middle;\n",
              "    }\n",
              "\n",
              "    .dataframe tbody tr th {\n",
              "        vertical-align: top;\n",
              "    }\n",
              "\n",
              "    .dataframe thead th {\n",
              "        text-align: right;\n",
              "    }\n",
              "</style>\n",
              "<table border=\"1\" class=\"dataframe\">\n",
              "  <thead>\n",
              "    <tr style=\"text-align: right;\">\n",
              "      <th></th>\n",
              "      <th>BIN_RANGE</th>\n",
              "    </tr>\n",
              "  </thead>\n",
              "  <tbody>\n",
              "    <tr>\n",
              "      <th>0</th>\n",
              "      <td>(0.0, 0.5]</td>\n",
              "    </tr>\n",
              "    <tr>\n",
              "      <th>1</th>\n",
              "      <td>(0.5, 1.0]</td>\n",
              "    </tr>\n",
              "    <tr>\n",
              "      <th>2</th>\n",
              "      <td>(1.0, 1.5]</td>\n",
              "    </tr>\n",
              "    <tr>\n",
              "      <th>3</th>\n",
              "      <td>(1.5, 2.0]</td>\n",
              "    </tr>\n",
              "    <tr>\n",
              "      <th>4</th>\n",
              "      <td>(2.0, 2.5]</td>\n",
              "    </tr>\n",
              "    <tr>\n",
              "      <th>5</th>\n",
              "      <td>(2.5, 3.0]</td>\n",
              "    </tr>\n",
              "    <tr>\n",
              "      <th>6</th>\n",
              "      <td>(3.0, 3.5]</td>\n",
              "    </tr>\n",
              "    <tr>\n",
              "      <th>7</th>\n",
              "      <td>(3.5, 4.0]</td>\n",
              "    </tr>\n",
              "    <tr>\n",
              "      <th>8</th>\n",
              "      <td>(4.0, 4.5]</td>\n",
              "    </tr>\n",
              "    <tr>\n",
              "      <th>9</th>\n",
              "      <td>(4.5, 5.0]</td>\n",
              "    </tr>\n",
              "  </tbody>\n",
              "</table>\n",
              "</div>"
            ],
            "text/plain": [
              "    BIN_RANGE\n",
              "0  (0.0, 0.5]\n",
              "1  (0.5, 1.0]\n",
              "2  (1.0, 1.5]\n",
              "3  (1.5, 2.0]\n",
              "4  (2.0, 2.5]\n",
              "5  (2.5, 3.0]\n",
              "6  (3.0, 3.5]\n",
              "7  (3.5, 4.0]\n",
              "8  (4.0, 4.5]\n",
              "9  (4.5, 5.0]"
            ]
          },
          "execution_count": 22,
          "metadata": {},
          "output_type": "execute_result"
        }
      ],
      "source": [
        "# Define bin ranges for DWELL_TIME to prepare for outlier detection\n",
        "# Create bins with varying sizes: 0-10 (0.5 intervals), 10-20 (1.0 intervals), 20+ (5.0 intervals)1\n",
        "\n",
        "# Define bins\n",
        "bins = np.concatenate([\n",
        "    np.arange(0, 10.5, 0.5),    # 0-10: bins of 0.5\n",
        "    np.arange(11, 21, 1),       # 10-20: bins of 1.0\n",
        "    np.arange(25, 145, 5)       # 20-140: bins of 5.0\n",
        "])\n",
        "\n",
        "# Create DataFrame with interval objects\n",
        "bins_df = pd.DataFrame({\n",
        "    'BIN_RANGE': pd.IntervalIndex.from_breaks(bins, closed='right')\n",
        "})\n",
        "\n",
        "print(f\"Number of bins created: {len(bins_df)}\")\n",
        "bins_df.head(10)"
      ]
    },
    {
      "cell_type": "code",
      "execution_count": null,
      "id": "f06a2a56",
      "metadata": {
        "id": "f06a2a56",
        "outputId": "e4029b1b-7d75-4044-c176-23f3b3dc7057"
      },
      "outputs": [
        {
          "name": "stdout",
          "output_type": "stream",
          "text": [
            "Sample from training data:\n",
            "                 TRAIN_ID  DWELL_TIME DWELL_TIME_BIN\n",
            "0   XBERBSB928H2021-05-28       0.300     (0.0, 0.5]\n",
            "2   XCROBSB921A2023-09-21       0.933     (0.5, 1.0]\n",
            "3   XCROEGE922A2023-09-22       1.017     (1.0, 1.5]\n",
            "4   XCROHBG919A2023-09-19       1.400     (1.0, 1.5]\n",
            "5   XPOWBNY925A2021-09-25       0.983     (0.5, 1.0]\n",
            "6   XPOWBRE920A2021-09-20       2.100     (2.0, 2.5]\n",
            "7   XPOWBSB901A2021-10-01       2.150     (2.0, 2.5]\n",
            "8   XPOWEGE902A2021-10-02       0.850     (0.5, 1.0]\n",
            "9   XPOWGWN903A2021-10-03       4.433     (4.0, 4.5]\n",
            "10  XPOWCSN921A2021-09-21       0.967     (0.5, 1.0]\n"
          ]
        }
      ],
      "source": [
        "# Map each train ID and its dwell time to the appropriate bin range\n",
        "# This will add a new column showing which bin each record belongs to in both the train and test datasets\n",
        "\n",
        "# Assign bins to train and test datasets\n",
        "train_df['DWELL_TIME_BIN'] = pd.cut(train_df['DWELL_TIME'], bins=bins)\n",
        "test_df['DWELL_TIME_BIN'] = pd.cut(test_df['DWELL_TIME'], bins=bins)\n",
        "df['DWELL_TIME_BIN'] = pd.cut(df['DWELL_TIME'], bins=bins)\n",
        "\n",
        "\n",
        "# Show sample from training data\n",
        "print(\"Sample from training data:\")\n",
        "print(train_df[['TRAIN_ID', 'DWELL_TIME', 'DWELL_TIME_BIN']].head(10))"
      ]
    },
    {
      "cell_type": "code",
      "execution_count": null,
      "id": "c033c54b",
      "metadata": {
        "id": "c033c54b",
        "outputId": "6bf84932-7e6b-4fe0-c44a-5cb54f2542bb"
      },
      "outputs": [
        {
          "name": "stdout",
          "output_type": "stream",
          "text": [
            "Total trains counted from TRAINING set: 543\n",
            "         BIN_RANGE  NB_OF_TRAIN_TRAINS\n",
            "1       (0.5, 1.0]                 109\n",
            "2       (1.0, 1.5]                  77\n",
            "3       (1.5, 2.0]                  48\n",
            "4       (2.0, 2.5]                  47\n",
            "5       (2.5, 3.0]                  37\n",
            "6       (3.0, 3.5]                  27\n",
            "7       (3.5, 4.0]                  24\n",
            "8       (4.0, 4.5]                  23\n",
            "10      (5.0, 5.5]                  19\n",
            "9       (4.5, 5.0]                  15\n",
            "20    (10.0, 11.0]                  13\n",
            "13      (6.5, 7.0]                  11\n",
            "12      (6.0, 6.5]                   9\n",
            "11      (5.5, 6.0]                   9\n",
            "19     (9.5, 10.0]                   9\n",
            "14      (7.0, 7.5]                   8\n",
            "15      (7.5, 8.0]                   8\n",
            "16      (8.0, 8.5]                   7\n",
            "0       (0.0, 0.5]                   6\n",
            "23    (13.0, 14.0]                   6\n",
            "24    (14.0, 15.0]                   5\n",
            "17      (8.5, 9.0]                   4\n",
            "21    (11.0, 12.0]                   4\n",
            "18      (9.0, 9.5]                   3\n",
            "25    (15.0, 16.0]                   2\n",
            "27    (17.0, 18.0]                   2\n",
            "31    (25.0, 30.0]                   2\n",
            "33    (35.0, 40.0]                   2\n",
            "30    (20.0, 25.0]                   2\n",
            "22    (12.0, 13.0]                   1\n",
            "26    (16.0, 17.0]                   1\n",
            "29    (19.0, 20.0]                   1\n",
            "32    (30.0, 35.0]                   1\n",
            "53  (135.0, 140.0]                   1\n",
            "34    (40.0, 45.0]                   0\n",
            "35    (45.0, 50.0]                   0\n",
            "36    (50.0, 55.0]                   0\n",
            "28    (18.0, 19.0]                   0\n",
            "37    (55.0, 60.0]                   0\n",
            "38    (60.0, 65.0]                   0\n",
            "40    (70.0, 75.0]                   0\n",
            "39    (65.0, 70.0]                   0\n",
            "42    (80.0, 85.0]                   0\n",
            "43    (85.0, 90.0]                   0\n",
            "44    (90.0, 95.0]                   0\n",
            "41    (75.0, 80.0]                   0\n",
            "45   (95.0, 100.0]                   0\n",
            "46  (100.0, 105.0]                   0\n",
            "48  (110.0, 115.0]                   0\n",
            "47  (105.0, 110.0]                   0\n",
            "49  (115.0, 120.0]                   0\n",
            "50  (120.0, 125.0]                   0\n",
            "51  (125.0, 130.0]                   0\n",
            "52  (130.0, 135.0]                   0\n"
          ]
        }
      ],
      "source": [
        "# Count unique trains per bin using TRAINING data and add to bins_df\n",
        "train_counts_by_bin = train_df.groupby('DWELL_TIME_BIN', observed=False)['TRAIN_ID'].nunique()\n",
        "bins_df['NB_OF_TRAIN_TRAINS'] = bins_df['BIN_RANGE'].map(train_counts_by_bin).fillna(0).astype(int)\n",
        "\n",
        "print(f\"Total trains counted from TRAINING set: {bins_df['NB_OF_TRAIN_TRAINS'].sum()}\")\n",
        "print(bins_df.sort_values(by='NB_OF_TRAIN_TRAINS', ascending=False))"
      ]
    },
    {
      "cell_type": "code",
      "execution_count": null,
      "id": "a084b28f",
      "metadata": {
        "id": "a084b28f",
        "outputId": "cc44b03c-2936-4e56-8a9b-34381da41517"
      },
      "outputs": [
        {
          "data": {
            "text/html": [
              "<div>\n",
              "<style scoped>\n",
              "    .dataframe tbody tr th:only-of-type {\n",
              "        vertical-align: middle;\n",
              "    }\n",
              "\n",
              "    .dataframe tbody tr th {\n",
              "        vertical-align: top;\n",
              "    }\n",
              "\n",
              "    .dataframe thead th {\n",
              "        text-align: right;\n",
              "    }\n",
              "</style>\n",
              "<table border=\"1\" class=\"dataframe\">\n",
              "  <thead>\n",
              "    <tr style=\"text-align: right;\">\n",
              "      <th></th>\n",
              "      <th>BIN_RANGE</th>\n",
              "      <th>NB_OF_TRAIN_TRAINS</th>\n",
              "    </tr>\n",
              "  </thead>\n",
              "  <tbody>\n",
              "    <tr>\n",
              "      <th>0</th>\n",
              "      <td>(0.0, 0.5]</td>\n",
              "      <td>6</td>\n",
              "    </tr>\n",
              "    <tr>\n",
              "      <th>1</th>\n",
              "      <td>(0.5, 1.0]</td>\n",
              "      <td>109</td>\n",
              "    </tr>\n",
              "    <tr>\n",
              "      <th>2</th>\n",
              "      <td>(1.0, 1.5]</td>\n",
              "      <td>77</td>\n",
              "    </tr>\n",
              "    <tr>\n",
              "      <th>3</th>\n",
              "      <td>(1.5, 2.0]</td>\n",
              "      <td>48</td>\n",
              "    </tr>\n",
              "    <tr>\n",
              "      <th>4</th>\n",
              "      <td>(2.0, 2.5]</td>\n",
              "      <td>47</td>\n",
              "    </tr>\n",
              "    <tr>\n",
              "      <th>5</th>\n",
              "      <td>(2.5, 3.0]</td>\n",
              "      <td>37</td>\n",
              "    </tr>\n",
              "    <tr>\n",
              "      <th>6</th>\n",
              "      <td>(3.0, 3.5]</td>\n",
              "      <td>27</td>\n",
              "    </tr>\n",
              "    <tr>\n",
              "      <th>7</th>\n",
              "      <td>(3.5, 4.0]</td>\n",
              "      <td>24</td>\n",
              "    </tr>\n",
              "    <tr>\n",
              "      <th>8</th>\n",
              "      <td>(4.0, 4.5]</td>\n",
              "      <td>23</td>\n",
              "    </tr>\n",
              "    <tr>\n",
              "      <th>9</th>\n",
              "      <td>(4.5, 5.0]</td>\n",
              "      <td>15</td>\n",
              "    </tr>\n",
              "    <tr>\n",
              "      <th>10</th>\n",
              "      <td>(5.0, 5.5]</td>\n",
              "      <td>19</td>\n",
              "    </tr>\n",
              "    <tr>\n",
              "      <th>11</th>\n",
              "      <td>(5.5, 6.0]</td>\n",
              "      <td>9</td>\n",
              "    </tr>\n",
              "    <tr>\n",
              "      <th>12</th>\n",
              "      <td>(6.0, 6.5]</td>\n",
              "      <td>9</td>\n",
              "    </tr>\n",
              "    <tr>\n",
              "      <th>13</th>\n",
              "      <td>(6.5, 7.0]</td>\n",
              "      <td>11</td>\n",
              "    </tr>\n",
              "    <tr>\n",
              "      <th>14</th>\n",
              "      <td>(7.0, 7.5]</td>\n",
              "      <td>8</td>\n",
              "    </tr>\n",
              "    <tr>\n",
              "      <th>15</th>\n",
              "      <td>(7.5, 8.0]</td>\n",
              "      <td>8</td>\n",
              "    </tr>\n",
              "    <tr>\n",
              "      <th>16</th>\n",
              "      <td>(8.0, 8.5]</td>\n",
              "      <td>7</td>\n",
              "    </tr>\n",
              "    <tr>\n",
              "      <th>17</th>\n",
              "      <td>(8.5, 9.0]</td>\n",
              "      <td>4</td>\n",
              "    </tr>\n",
              "    <tr>\n",
              "      <th>18</th>\n",
              "      <td>(9.0, 9.5]</td>\n",
              "      <td>3</td>\n",
              "    </tr>\n",
              "    <tr>\n",
              "      <th>19</th>\n",
              "      <td>(9.5, 10.0]</td>\n",
              "      <td>9</td>\n",
              "    </tr>\n",
              "    <tr>\n",
              "      <th>20</th>\n",
              "      <td>(10.0, 11.0]</td>\n",
              "      <td>13</td>\n",
              "    </tr>\n",
              "    <tr>\n",
              "      <th>21</th>\n",
              "      <td>(11.0, 12.0]</td>\n",
              "      <td>4</td>\n",
              "    </tr>\n",
              "    <tr>\n",
              "      <th>22</th>\n",
              "      <td>(12.0, 13.0]</td>\n",
              "      <td>1</td>\n",
              "    </tr>\n",
              "    <tr>\n",
              "      <th>23</th>\n",
              "      <td>(13.0, 14.0]</td>\n",
              "      <td>6</td>\n",
              "    </tr>\n",
              "    <tr>\n",
              "      <th>24</th>\n",
              "      <td>(14.0, 15.0]</td>\n",
              "      <td>5</td>\n",
              "    </tr>\n",
              "    <tr>\n",
              "      <th>25</th>\n",
              "      <td>(15.0, 16.0]</td>\n",
              "      <td>2</td>\n",
              "    </tr>\n",
              "    <tr>\n",
              "      <th>26</th>\n",
              "      <td>(16.0, 17.0]</td>\n",
              "      <td>1</td>\n",
              "    </tr>\n",
              "    <tr>\n",
              "      <th>27</th>\n",
              "      <td>(17.0, 18.0]</td>\n",
              "      <td>2</td>\n",
              "    </tr>\n",
              "    <tr>\n",
              "      <th>29</th>\n",
              "      <td>(19.0, 20.0]</td>\n",
              "      <td>1</td>\n",
              "    </tr>\n",
              "    <tr>\n",
              "      <th>30</th>\n",
              "      <td>(20.0, 25.0]</td>\n",
              "      <td>2</td>\n",
              "    </tr>\n",
              "    <tr>\n",
              "      <th>31</th>\n",
              "      <td>(25.0, 30.0]</td>\n",
              "      <td>2</td>\n",
              "    </tr>\n",
              "    <tr>\n",
              "      <th>32</th>\n",
              "      <td>(30.0, 35.0]</td>\n",
              "      <td>1</td>\n",
              "    </tr>\n",
              "    <tr>\n",
              "      <th>33</th>\n",
              "      <td>(35.0, 40.0]</td>\n",
              "      <td>2</td>\n",
              "    </tr>\n",
              "    <tr>\n",
              "      <th>53</th>\n",
              "      <td>(135.0, 140.0]</td>\n",
              "      <td>1</td>\n",
              "    </tr>\n",
              "  </tbody>\n",
              "</table>\n",
              "</div>"
            ],
            "text/plain": [
              "         BIN_RANGE  NB_OF_TRAIN_TRAINS\n",
              "0       (0.0, 0.5]                   6\n",
              "1       (0.5, 1.0]                 109\n",
              "2       (1.0, 1.5]                  77\n",
              "3       (1.5, 2.0]                  48\n",
              "4       (2.0, 2.5]                  47\n",
              "5       (2.5, 3.0]                  37\n",
              "6       (3.0, 3.5]                  27\n",
              "7       (3.5, 4.0]                  24\n",
              "8       (4.0, 4.5]                  23\n",
              "9       (4.5, 5.0]                  15\n",
              "10      (5.0, 5.5]                  19\n",
              "11      (5.5, 6.0]                   9\n",
              "12      (6.0, 6.5]                   9\n",
              "13      (6.5, 7.0]                  11\n",
              "14      (7.0, 7.5]                   8\n",
              "15      (7.5, 8.0]                   8\n",
              "16      (8.0, 8.5]                   7\n",
              "17      (8.5, 9.0]                   4\n",
              "18      (9.0, 9.5]                   3\n",
              "19     (9.5, 10.0]                   9\n",
              "20    (10.0, 11.0]                  13\n",
              "21    (11.0, 12.0]                   4\n",
              "22    (12.0, 13.0]                   1\n",
              "23    (13.0, 14.0]                   6\n",
              "24    (14.0, 15.0]                   5\n",
              "25    (15.0, 16.0]                   2\n",
              "26    (16.0, 17.0]                   1\n",
              "27    (17.0, 18.0]                   2\n",
              "29    (19.0, 20.0]                   1\n",
              "30    (20.0, 25.0]                   2\n",
              "31    (25.0, 30.0]                   2\n",
              "32    (30.0, 35.0]                   1\n",
              "33    (35.0, 40.0]                   2\n",
              "53  (135.0, 140.0]                   1"
            ]
          },
          "execution_count": 25,
          "metadata": {},
          "output_type": "execute_result"
        }
      ],
      "source": [
        "# Filter bins_df to keep only bins with more than 0 trains\n",
        "bins_df = bins_df[bins_df['NB_OF_TRAIN_TRAINS'] > 0]  # CORRECT column name\n",
        "bins_df"
      ]
    },
    {
      "cell_type": "code",
      "execution_count": null,
      "id": "2e66e3fd",
      "metadata": {
        "id": "2e66e3fd",
        "outputId": "db84b2e4-feaf-4164-bd3b-78c840d582d9"
      },
      "outputs": [
        {
          "name": "stdout",
          "output_type": "stream",
          "text": [
            "5% threshold: 35 trains\n",
            "Bins meeting threshold: 5\n"
          ]
        },
        {
          "data": {
            "text/html": [
              "<div>\n",
              "<style scoped>\n",
              "    .dataframe tbody tr th:only-of-type {\n",
              "        vertical-align: middle;\n",
              "    }\n",
              "\n",
              "    .dataframe tbody tr th {\n",
              "        vertical-align: top;\n",
              "    }\n",
              "\n",
              "    .dataframe thead th {\n",
              "        text-align: right;\n",
              "    }\n",
              "</style>\n",
              "<table border=\"1\" class=\"dataframe\">\n",
              "  <thead>\n",
              "    <tr style=\"text-align: right;\">\n",
              "      <th></th>\n",
              "      <th>BIN_RANGE</th>\n",
              "      <th>NB_OF_TRAIN_TRAINS</th>\n",
              "    </tr>\n",
              "  </thead>\n",
              "  <tbody>\n",
              "    <tr>\n",
              "      <th>1</th>\n",
              "      <td>(0.5, 1.0]</td>\n",
              "      <td>109</td>\n",
              "    </tr>\n",
              "    <tr>\n",
              "      <th>2</th>\n",
              "      <td>(1.0, 1.5]</td>\n",
              "      <td>77</td>\n",
              "    </tr>\n",
              "    <tr>\n",
              "      <th>3</th>\n",
              "      <td>(1.5, 2.0]</td>\n",
              "      <td>48</td>\n",
              "    </tr>\n",
              "    <tr>\n",
              "      <th>4</th>\n",
              "      <td>(2.0, 2.5]</td>\n",
              "      <td>47</td>\n",
              "    </tr>\n",
              "    <tr>\n",
              "      <th>5</th>\n",
              "      <td>(2.5, 3.0]</td>\n",
              "      <td>37</td>\n",
              "    </tr>\n",
              "  </tbody>\n",
              "</table>\n",
              "</div>"
            ],
            "text/plain": [
              "    BIN_RANGE  NB_OF_TRAIN_TRAINS\n",
              "1  (0.5, 1.0]                 109\n",
              "2  (1.0, 1.5]                  77\n",
              "3  (1.5, 2.0]                  48\n",
              "4  (2.0, 2.5]                  47\n",
              "5  (2.5, 3.0]                  37"
            ]
          },
          "execution_count": 26,
          "metadata": {},
          "output_type": "execute_result"
        }
      ],
      "source": [
        "# Find bins containing at least 5% of trains\n",
        "threshold = int(np.ceil(df['TRAIN_ID'].nunique() * 0.05))\n",
        "bins_above_threshold = bins_df[bins_df['NB_OF_TRAIN_TRAINS'] >= threshold]\n",
        "\n",
        "print(f\"5% threshold: {threshold} trains\")\n",
        "print(f\"Bins meeting threshold: {bins_above_threshold.shape[0]}\")\n",
        "bins_above_threshold\n"
      ]
    },
    {
      "cell_type": "code",
      "execution_count": null,
      "id": "0bfdb60a",
      "metadata": {
        "id": "0bfdb60a",
        "outputId": "ef939d41-9cf2-45a2-e090-37f74f55b70f"
      },
      "outputs": [
        {
          "data": {
            "text/html": [
              "<div>\n",
              "<style scoped>\n",
              "    .dataframe tbody tr th:only-of-type {\n",
              "        vertical-align: middle;\n",
              "    }\n",
              "\n",
              "    .dataframe tbody tr th {\n",
              "        vertical-align: top;\n",
              "    }\n",
              "\n",
              "    .dataframe thead th {\n",
              "        text-align: right;\n",
              "    }\n",
              "</style>\n",
              "<table border=\"1\" class=\"dataframe\">\n",
              "  <thead>\n",
              "    <tr style=\"text-align: right;\">\n",
              "      <th></th>\n",
              "      <th>STN_333</th>\n",
              "      <th>Overall_Count</th>\n",
              "      <th>Lower_Bound</th>\n",
              "      <th>Upper_Bound</th>\n",
              "    </tr>\n",
              "  </thead>\n",
              "  <tbody>\n",
              "    <tr>\n",
              "      <th>0</th>\n",
              "      <td>MINOT</td>\n",
              "      <td>693</td>\n",
              "      <td>0.5</td>\n",
              "      <td>3.0</td>\n",
              "    </tr>\n",
              "  </tbody>\n",
              "</table>\n",
              "</div>"
            ],
            "text/plain": [
              "  STN_333  Overall_Count  Lower_Bound  Upper_Bound\n",
              "0   MINOT            693          0.5          3.0"
            ]
          },
          "execution_count": 27,
          "metadata": {},
          "output_type": "execute_result"
        }
      ],
      "source": [
        "# Get bounds from first and last bin above threshold\n",
        "lower_bound = bins_above_threshold.iloc[0]['BIN_RANGE'].left\n",
        "upper_bound = bins_above_threshold.iloc[-1]['BIN_RANGE'].right\n",
        "\n",
        "# Create summary\n",
        "summary_df = pd.DataFrame({\n",
        "    'STN_333': ['MINOT'],\n",
        "    'Overall_Count': [df['TRAIN_ID'].nunique()],  # Total unique trains in dataset\n",
        "    'Lower_Bound': [lower_bound],\n",
        "    'Upper_Bound': [upper_bound]\n",
        "})\n",
        "\n",
        "summary_df"
      ]
    },
    {
      "cell_type": "code",
      "execution_count": null,
      "id": "aaa3510d",
      "metadata": {
        "id": "aaa3510d",
        "outputId": "d056674d-3b99-452a-eca9-c8d97c1da8c5"
      },
      "outputs": [
        {
          "name": "stdout",
          "output_type": "stream",
          "text": [
            "Outlier bounds: 0.5 to 3.0\n",
            "\n",
            "Training outliers: 225 out of 543 records\n",
            "Test outliers: 65 out of 150 records\n",
            "\n",
            "Sample:\n"
          ]
        },
        {
          "data": {
            "text/html": [
              "<div>\n",
              "<style scoped>\n",
              "    .dataframe tbody tr th:only-of-type {\n",
              "        vertical-align: middle;\n",
              "    }\n",
              "\n",
              "    .dataframe tbody tr th {\n",
              "        vertical-align: top;\n",
              "    }\n",
              "\n",
              "    .dataframe thead th {\n",
              "        text-align: right;\n",
              "    }\n",
              "</style>\n",
              "<table border=\"1\" class=\"dataframe\">\n",
              "  <thead>\n",
              "    <tr style=\"text-align: right;\">\n",
              "      <th></th>\n",
              "      <th>TRAIN_ID</th>\n",
              "      <th>DWELL_TIME</th>\n",
              "      <th>IS_OUTLIER</th>\n",
              "    </tr>\n",
              "  </thead>\n",
              "  <tbody>\n",
              "    <tr>\n",
              "      <th>0</th>\n",
              "      <td>XBERBSB928H2021-05-28</td>\n",
              "      <td>0.300</td>\n",
              "      <td>True</td>\n",
              "    </tr>\n",
              "    <tr>\n",
              "      <th>1</th>\n",
              "      <td>XKAHKND911H2024-08-11</td>\n",
              "      <td>3.417</td>\n",
              "      <td>True</td>\n",
              "    </tr>\n",
              "    <tr>\n",
              "      <th>2</th>\n",
              "      <td>XCROBSB921A2023-09-21</td>\n",
              "      <td>0.933</td>\n",
              "      <td>False</td>\n",
              "    </tr>\n",
              "    <tr>\n",
              "      <th>3</th>\n",
              "      <td>XCROEGE922A2023-09-22</td>\n",
              "      <td>1.017</td>\n",
              "      <td>False</td>\n",
              "    </tr>\n",
              "    <tr>\n",
              "      <th>4</th>\n",
              "      <td>XCROHBG919A2023-09-19</td>\n",
              "      <td>1.400</td>\n",
              "      <td>False</td>\n",
              "    </tr>\n",
              "  </tbody>\n",
              "</table>\n",
              "</div>"
            ],
            "text/plain": [
              "                TRAIN_ID  DWELL_TIME  IS_OUTLIER\n",
              "0  XBERBSB928H2021-05-28       0.300        True\n",
              "1  XKAHKND911H2024-08-11       3.417        True\n",
              "2  XCROBSB921A2023-09-21       0.933       False\n",
              "3  XCROEGE922A2023-09-22       1.017       False\n",
              "4  XCROHBG919A2023-09-19       1.400       False"
            ]
          },
          "execution_count": 28,
          "metadata": {},
          "output_type": "execute_result"
        }
      ],
      "source": [
        "# Get outlier bounds from the bins that meet threshold\n",
        "lower_bound = bins_above_threshold.iloc[0]['BIN_RANGE'].left\n",
        "upper_bound = bins_above_threshold.iloc[-1]['BIN_RANGE'].right\n",
        "\n",
        "print(f\"Outlier bounds: {lower_bound} to {upper_bound}\")\n",
        "\n",
        "# Add outlier flag to all datasets\n",
        "train_df['IS_OUTLIER'] = (train_df['DWELL_TIME'] < lower_bound) | (train_df['DWELL_TIME'] > upper_bound)\n",
        "test_df['IS_OUTLIER'] = (test_df['DWELL_TIME'] < lower_bound) | (test_df['DWELL_TIME'] > upper_bound)\n",
        "df['IS_OUTLIER'] = (df['DWELL_TIME'] < lower_bound) | (df['DWELL_TIME'] > upper_bound)\n",
        "\n",
        "# Quick summary\n",
        "print(f\"\\nTraining outliers: {train_df['IS_OUTLIER'].sum()} out of {len(train_df)} records\")\n",
        "print(f\"Test outliers: {test_df['IS_OUTLIER'].sum()} out of {len(test_df)} records\")\n",
        "\n",
        "# Show sample\n",
        "print(\"\\nSample:\")\n",
        "df[['TRAIN_ID', 'DWELL_TIME','IS_OUTLIER']].head(5)"
      ]
    },
    {
      "cell_type": "code",
      "execution_count": null,
      "id": "67a9033f",
      "metadata": {
        "id": "67a9033f",
        "outputId": "2f52033e-d11a-4ed6-f459-a213d878da97"
      },
      "outputs": [
        {
          "data": {
            "text/plain": [
              "(693, 24)"
            ]
          },
          "execution_count": 29,
          "metadata": {},
          "output_type": "execute_result"
        }
      ],
      "source": [
        "processed_df = pd.concat([train_df, test_df])\n",
        "processed_df.shape"
      ]
    },
    {
      "cell_type": "code",
      "execution_count": null,
      "id": "2948af0f",
      "metadata": {
        "id": "2948af0f",
        "outputId": "4a916943-94a9-4be9-a480-33e7bad8275d"
      },
      "outputs": [
        {
          "data": {
            "text/html": [
              "<div>\n",
              "<style scoped>\n",
              "    .dataframe tbody tr th:only-of-type {\n",
              "        vertical-align: middle;\n",
              "    }\n",
              "\n",
              "    .dataframe tbody tr th {\n",
              "        vertical-align: top;\n",
              "    }\n",
              "\n",
              "    .dataframe thead th {\n",
              "        text-align: right;\n",
              "    }\n",
              "</style>\n",
              "<table border=\"1\" class=\"dataframe\">\n",
              "  <thead>\n",
              "    <tr style=\"text-align: right;\">\n",
              "      <th></th>\n",
              "      <th>TRAIN_ID</th>\n",
              "      <th>STN_333</th>\n",
              "      <th>STN_ST</th>\n",
              "      <th>STN_TYPE_CD</th>\n",
              "      <th>STN_SEQ_NBR</th>\n",
              "      <th>TRN_MILES_TOT_TD</th>\n",
              "      <th>crew_order</th>\n",
              "      <th>DPT_DIR</th>\n",
              "      <th>REQ_INSP</th>\n",
              "      <th>case</th>\n",
              "      <th>...</th>\n",
              "      <th>TRN_MILES_TOT_DEST</th>\n",
              "      <th>STN_SEQ_NBR_DEST</th>\n",
              "      <th>DISTANCE</th>\n",
              "      <th>LAST_CREW_STATION</th>\n",
              "      <th>SECOND_LAST_CREW_STATION</th>\n",
              "      <th>TRAVEL_TIME</th>\n",
              "      <th>DWELL_TIME</th>\n",
              "      <th>DATE</th>\n",
              "      <th>DWELL_TIME_BIN</th>\n",
              "      <th>IS_OUTLIER</th>\n",
              "    </tr>\n",
              "  </thead>\n",
              "  <tbody>\n",
              "    <tr>\n",
              "      <th>0</th>\n",
              "      <td>XBERBSB928H2021-05-28</td>\n",
              "      <td>MINOT</td>\n",
              "      <td>ND</td>\n",
              "      <td>C</td>\n",
              "      <td>40</td>\n",
              "      <td>22.7</td>\n",
              "      <td>1</td>\n",
              "      <td>E</td>\n",
              "      <td>N</td>\n",
              "      <td>General</td>\n",
              "      <td>...</td>\n",
              "      <td>149.4</td>\n",
              "      <td>210</td>\n",
              "      <td>126.7</td>\n",
              "      <td>MINOT</td>\n",
              "      <td>GLASGOW</td>\n",
              "      <td>5.750</td>\n",
              "      <td>0.300</td>\n",
              "      <td>2021-05-30</td>\n",
              "      <td>(0.0, 0.5]</td>\n",
              "      <td>True</td>\n",
              "    </tr>\n",
              "    <tr>\n",
              "      <th>2</th>\n",
              "      <td>XCROBSB921A2023-09-21</td>\n",
              "      <td>MINOT</td>\n",
              "      <td>ND</td>\n",
              "      <td>C</td>\n",
              "      <td>90</td>\n",
              "      <td>63.6</td>\n",
              "      <td>1</td>\n",
              "      <td>E</td>\n",
              "      <td>N</td>\n",
              "      <td>General</td>\n",
              "      <td>...</td>\n",
              "      <td>190.3</td>\n",
              "      <td>260</td>\n",
              "      <td>126.7</td>\n",
              "      <td>MINOT</td>\n",
              "      <td>GLASGOW</td>\n",
              "      <td>5.750</td>\n",
              "      <td>0.933</td>\n",
              "      <td>2023-09-21</td>\n",
              "      <td>(0.5, 1.0]</td>\n",
              "      <td>False</td>\n",
              "    </tr>\n",
              "    <tr>\n",
              "      <th>3</th>\n",
              "      <td>XCROEGE922A2023-09-22</td>\n",
              "      <td>MINOT</td>\n",
              "      <td>ND</td>\n",
              "      <td>C</td>\n",
              "      <td>90</td>\n",
              "      <td>63.6</td>\n",
              "      <td>1</td>\n",
              "      <td>E</td>\n",
              "      <td>N</td>\n",
              "      <td>General</td>\n",
              "      <td>...</td>\n",
              "      <td>281.0</td>\n",
              "      <td>370</td>\n",
              "      <td>217.4</td>\n",
              "      <td>MINOT</td>\n",
              "      <td>GLASGOW</td>\n",
              "      <td>5.500</td>\n",
              "      <td>1.017</td>\n",
              "      <td>2023-09-22</td>\n",
              "      <td>(1.0, 1.5]</td>\n",
              "      <td>False</td>\n",
              "    </tr>\n",
              "    <tr>\n",
              "      <th>4</th>\n",
              "      <td>XCROHBG919A2023-09-19</td>\n",
              "      <td>MINOT</td>\n",
              "      <td>ND</td>\n",
              "      <td>C</td>\n",
              "      <td>90</td>\n",
              "      <td>63.6</td>\n",
              "      <td>1</td>\n",
              "      <td>E</td>\n",
              "      <td>N</td>\n",
              "      <td>General</td>\n",
              "      <td>...</td>\n",
              "      <td>154.9</td>\n",
              "      <td>210</td>\n",
              "      <td>91.3</td>\n",
              "      <td>MINOT</td>\n",
              "      <td>GLASGOW</td>\n",
              "      <td>1.750</td>\n",
              "      <td>1.400</td>\n",
              "      <td>2023-09-19</td>\n",
              "      <td>(1.0, 1.5]</td>\n",
              "      <td>False</td>\n",
              "    </tr>\n",
              "    <tr>\n",
              "      <th>5</th>\n",
              "      <td>XPOWBNY925A2021-09-25</td>\n",
              "      <td>MINOT</td>\n",
              "      <td>ND</td>\n",
              "      <td>C</td>\n",
              "      <td>110</td>\n",
              "      <td>80.0</td>\n",
              "      <td>1</td>\n",
              "      <td>E</td>\n",
              "      <td>N</td>\n",
              "      <td>General</td>\n",
              "      <td>...</td>\n",
              "      <td>297.4</td>\n",
              "      <td>390</td>\n",
              "      <td>217.4</td>\n",
              "      <td>MINOT</td>\n",
              "      <td>GLASGOW</td>\n",
              "      <td>8.917</td>\n",
              "      <td>0.983</td>\n",
              "      <td>2021-09-25</td>\n",
              "      <td>(0.5, 1.0]</td>\n",
              "      <td>False</td>\n",
              "    </tr>\n",
              "  </tbody>\n",
              "</table>\n",
              "<p>5 rows × 24 columns</p>\n",
              "</div>"
            ],
            "text/plain": [
              "                TRAIN_ID STN_333 STN_ST STN_TYPE_CD  STN_SEQ_NBR  \\\n",
              "0  XBERBSB928H2021-05-28   MINOT     ND           C           40   \n",
              "2  XCROBSB921A2023-09-21   MINOT     ND           C           90   \n",
              "3  XCROEGE922A2023-09-22   MINOT     ND           C           90   \n",
              "4  XCROHBG919A2023-09-19   MINOT     ND           C           90   \n",
              "5  XPOWBNY925A2021-09-25   MINOT     ND           C          110   \n",
              "\n",
              "   TRN_MILES_TOT_TD  crew_order DPT_DIR REQ_INSP     case  ...  \\\n",
              "0              22.7           1       E        N  General  ...   \n",
              "2              63.6           1       E        N  General  ...   \n",
              "3              63.6           1       E        N  General  ...   \n",
              "4              63.6           1       E        N  General  ...   \n",
              "5              80.0           1       E        N  General  ...   \n",
              "\n",
              "  TRN_MILES_TOT_DEST STN_SEQ_NBR_DEST DISTANCE LAST_CREW_STATION  \\\n",
              "0              149.4              210    126.7             MINOT   \n",
              "2              190.3              260    126.7             MINOT   \n",
              "3              281.0              370    217.4             MINOT   \n",
              "4              154.9              210     91.3             MINOT   \n",
              "5              297.4              390    217.4             MINOT   \n",
              "\n",
              "   SECOND_LAST_CREW_STATION  TRAVEL_TIME  DWELL_TIME       DATE  \\\n",
              "0                   GLASGOW        5.750       0.300 2021-05-30   \n",
              "2                   GLASGOW        5.750       0.933 2023-09-21   \n",
              "3                   GLASGOW        5.500       1.017 2023-09-22   \n",
              "4                   GLASGOW        1.750       1.400 2023-09-19   \n",
              "5                   GLASGOW        8.917       0.983 2021-09-25   \n",
              "\n",
              "  DWELL_TIME_BIN  IS_OUTLIER  \n",
              "0     (0.0, 0.5]        True  \n",
              "2     (0.5, 1.0]       False  \n",
              "3     (1.0, 1.5]       False  \n",
              "4     (1.0, 1.5]       False  \n",
              "5     (0.5, 1.0]       False  \n",
              "\n",
              "[5 rows x 24 columns]"
            ]
          },
          "execution_count": 30,
          "metadata": {},
          "output_type": "execute_result"
        }
      ],
      "source": [
        "processed_df.head()"
      ]
    },
    {
      "cell_type": "code",
      "execution_count": null,
      "id": "8df084c6",
      "metadata": {
        "id": "8df084c6",
        "outputId": "dd9c6fd0-a694-449d-92f1-9f884ae9f3e0"
      },
      "outputs": [
        {
          "data": {
            "text/plain": [
              "array([ True, False])"
            ]
          },
          "execution_count": 33,
          "metadata": {},
          "output_type": "execute_result"
        }
      ],
      "source": [
        "processed_df['IS_OUTLIER'].unique()"
      ]
    },
    {
      "cell_type": "code",
      "execution_count": null,
      "id": "bd8199eb",
      "metadata": {
        "id": "bd8199eb",
        "outputId": "1defc180-22a6-41a6-94c7-626c5fbaa81d"
      },
      "outputs": [
        {
          "data": {
            "text/plain": [
              "403"
            ]
          },
          "execution_count": 36,
          "metadata": {},
          "output_type": "execute_result"
        }
      ],
      "source": [
        "processed_df[processed_df['IS_OUTLIER']==False]['TRAIN_ID'].nunique()"
      ]
    },
    {
      "cell_type": "code",
      "execution_count": null,
      "id": "6110652f",
      "metadata": {
        "id": "6110652f",
        "outputId": "eba4626d-485f-45c1-bfeb-d751e59d6934"
      },
      "outputs": [
        {
          "data": {
            "text/plain": [
              "Index(['TRAIN_ID', 'STN_333', 'STN_ST', 'STN_TYPE_CD', 'STN_SEQ_NBR',\n",
              "       'TRN_MILES_TOT_TD', 'crew_order', 'DPT_DIR', 'REQ_INSP', 'case', 'TA',\n",
              "       'TD', 'DESTINATION', 'ArrivalDestination', 'TRN_MILES_TOT_DEST',\n",
              "       'STN_SEQ_NBR_DEST', 'DISTANCE', 'LAST_CREW_STATION',\n",
              "       'SECOND_LAST_CREW_STATION', 'TRAVEL_TIME', 'DWELL_TIME', 'DATE',\n",
              "       'DWELL_TIME_BIN', 'IS_OUTLIER'],\n",
              "      dtype='object')"
            ]
          },
          "execution_count": 12,
          "metadata": {},
          "output_type": "execute_result"
        }
      ],
      "source": [
        "processed_df.columns"
      ]
    },
    {
      "cell_type": "code",
      "execution_count": null,
      "id": "13b26982",
      "metadata": {
        "id": "13b26982",
        "outputId": "5734032d-bc89-4baa-b165-d3df28da54d0"
      },
      "outputs": [
        {
          "name": "stdout",
          "output_type": "stream",
          "text": [
            "Date range: 2020-05-05 to 2024-08-20\n"
          ]
        },
        {
          "name": "stderr",
          "output_type": "stream",
          "text": [
            "C:\\Users\\rita03.TRN\\AppData\\Local\\Temp\\ipykernel_26752\\552750185.py:2: FutureWarning: In a future version of pandas, parsing datetimes with mixed time zones will raise an error unless `utc=True`. Please specify `utc=True` to opt in to the new behaviour and silence this warning. To create a `Series` with mixed offsets and `object` dtype, please use `apply` and `datetime.datetime.strptime`\n",
            "  min_date = pd.to_datetime(processed_df['TA']).min()\n",
            "C:\\Users\\rita03.TRN\\AppData\\Local\\Temp\\ipykernel_26752\\552750185.py:3: FutureWarning: In a future version of pandas, parsing datetimes with mixed time zones will raise an error unless `utc=True`. Please specify `utc=True` to opt in to the new behaviour and silence this warning. To create a `Series` with mixed offsets and `object` dtype, please use `apply` and `datetime.datetime.strptime`\n",
            "  max_date = pd.to_datetime(processed_df['TA']).max()\n"
          ]
        }
      ],
      "source": [
        "# Get date range for TA\n",
        "min_date = pd.to_datetime(processed_df['TA']).min()\n",
        "max_date = pd.to_datetime(processed_df['TA']).max()\n",
        "print(f\"Date range: {min_date.date()} to {max_date.date()}\")"
      ]
    },
    {
      "cell_type": "code",
      "execution_count": null,
      "id": "1e559211",
      "metadata": {
        "id": "1e559211",
        "outputId": "0ee816c1-bc4e-46bb-ee33-d2ed44e2b5c4"
      },
      "outputs": [
        {
          "data": {
            "text/html": [
              "<div>\n",
              "<style scoped>\n",
              "    .dataframe tbody tr th:only-of-type {\n",
              "        vertical-align: middle;\n",
              "    }\n",
              "\n",
              "    .dataframe tbody tr th {\n",
              "        vertical-align: top;\n",
              "    }\n",
              "\n",
              "    .dataframe thead th {\n",
              "        text-align: right;\n",
              "    }\n",
              "</style>\n",
              "<table border=\"1\" class=\"dataframe\">\n",
              "  <thead>\n",
              "    <tr style=\"text-align: right;\">\n",
              "      <th></th>\n",
              "      <th>BIN_RANGE</th>\n",
              "      <th>NB_OF_TRAIN_TRAINS</th>\n",
              "      <th>NB_TRAINS_TEST</th>\n",
              "      <th>NB_TRAINS_ALL</th>\n",
              "    </tr>\n",
              "  </thead>\n",
              "  <tbody>\n",
              "    <tr>\n",
              "      <th>0</th>\n",
              "      <td>(0.0, 0.5]</td>\n",
              "      <td>6</td>\n",
              "      <td>1</td>\n",
              "      <td>7</td>\n",
              "    </tr>\n",
              "    <tr>\n",
              "      <th>1</th>\n",
              "      <td>(0.5, 1.0]</td>\n",
              "      <td>109</td>\n",
              "      <td>27</td>\n",
              "      <td>136</td>\n",
              "    </tr>\n",
              "    <tr>\n",
              "      <th>2</th>\n",
              "      <td>(1.0, 1.5]</td>\n",
              "      <td>77</td>\n",
              "      <td>30</td>\n",
              "      <td>107</td>\n",
              "    </tr>\n",
              "    <tr>\n",
              "      <th>3</th>\n",
              "      <td>(1.5, 2.0]</td>\n",
              "      <td>48</td>\n",
              "      <td>10</td>\n",
              "      <td>58</td>\n",
              "    </tr>\n",
              "    <tr>\n",
              "      <th>4</th>\n",
              "      <td>(2.0, 2.5]</td>\n",
              "      <td>47</td>\n",
              "      <td>9</td>\n",
              "      <td>56</td>\n",
              "    </tr>\n",
              "    <tr>\n",
              "      <th>5</th>\n",
              "      <td>(2.5, 3.0]</td>\n",
              "      <td>37</td>\n",
              "      <td>9</td>\n",
              "      <td>46</td>\n",
              "    </tr>\n",
              "    <tr>\n",
              "      <th>6</th>\n",
              "      <td>(3.0, 3.5]</td>\n",
              "      <td>27</td>\n",
              "      <td>12</td>\n",
              "      <td>39</td>\n",
              "    </tr>\n",
              "    <tr>\n",
              "      <th>7</th>\n",
              "      <td>(3.5, 4.0]</td>\n",
              "      <td>24</td>\n",
              "      <td>4</td>\n",
              "      <td>28</td>\n",
              "    </tr>\n",
              "    <tr>\n",
              "      <th>8</th>\n",
              "      <td>(4.0, 4.5]</td>\n",
              "      <td>23</td>\n",
              "      <td>4</td>\n",
              "      <td>27</td>\n",
              "    </tr>\n",
              "    <tr>\n",
              "      <th>9</th>\n",
              "      <td>(4.5, 5.0]</td>\n",
              "      <td>15</td>\n",
              "      <td>6</td>\n",
              "      <td>21</td>\n",
              "    </tr>\n",
              "    <tr>\n",
              "      <th>10</th>\n",
              "      <td>(5.0, 5.5]</td>\n",
              "      <td>19</td>\n",
              "      <td>3</td>\n",
              "      <td>22</td>\n",
              "    </tr>\n",
              "    <tr>\n",
              "      <th>11</th>\n",
              "      <td>(5.5, 6.0]</td>\n",
              "      <td>9</td>\n",
              "      <td>5</td>\n",
              "      <td>14</td>\n",
              "    </tr>\n",
              "    <tr>\n",
              "      <th>12</th>\n",
              "      <td>(6.0, 6.5]</td>\n",
              "      <td>9</td>\n",
              "      <td>2</td>\n",
              "      <td>11</td>\n",
              "    </tr>\n",
              "    <tr>\n",
              "      <th>13</th>\n",
              "      <td>(6.5, 7.0]</td>\n",
              "      <td>11</td>\n",
              "      <td>6</td>\n",
              "      <td>17</td>\n",
              "    </tr>\n",
              "    <tr>\n",
              "      <th>14</th>\n",
              "      <td>(7.0, 7.5]</td>\n",
              "      <td>8</td>\n",
              "      <td>3</td>\n",
              "      <td>11</td>\n",
              "    </tr>\n",
              "    <tr>\n",
              "      <th>15</th>\n",
              "      <td>(7.5, 8.0]</td>\n",
              "      <td>8</td>\n",
              "      <td>1</td>\n",
              "      <td>9</td>\n",
              "    </tr>\n",
              "    <tr>\n",
              "      <th>16</th>\n",
              "      <td>(8.0, 8.5]</td>\n",
              "      <td>7</td>\n",
              "      <td>0</td>\n",
              "      <td>7</td>\n",
              "    </tr>\n",
              "    <tr>\n",
              "      <th>17</th>\n",
              "      <td>(8.5, 9.0]</td>\n",
              "      <td>4</td>\n",
              "      <td>4</td>\n",
              "      <td>8</td>\n",
              "    </tr>\n",
              "    <tr>\n",
              "      <th>18</th>\n",
              "      <td>(9.0, 9.5]</td>\n",
              "      <td>3</td>\n",
              "      <td>3</td>\n",
              "      <td>6</td>\n",
              "    </tr>\n",
              "    <tr>\n",
              "      <th>19</th>\n",
              "      <td>(9.5, 10.0]</td>\n",
              "      <td>9</td>\n",
              "      <td>0</td>\n",
              "      <td>9</td>\n",
              "    </tr>\n",
              "    <tr>\n",
              "      <th>20</th>\n",
              "      <td>(10.0, 11.0]</td>\n",
              "      <td>13</td>\n",
              "      <td>1</td>\n",
              "      <td>14</td>\n",
              "    </tr>\n",
              "    <tr>\n",
              "      <th>21</th>\n",
              "      <td>(11.0, 12.0]</td>\n",
              "      <td>4</td>\n",
              "      <td>1</td>\n",
              "      <td>5</td>\n",
              "    </tr>\n",
              "    <tr>\n",
              "      <th>22</th>\n",
              "      <td>(12.0, 13.0]</td>\n",
              "      <td>1</td>\n",
              "      <td>2</td>\n",
              "      <td>3</td>\n",
              "    </tr>\n",
              "    <tr>\n",
              "      <th>23</th>\n",
              "      <td>(13.0, 14.0]</td>\n",
              "      <td>6</td>\n",
              "      <td>0</td>\n",
              "      <td>6</td>\n",
              "    </tr>\n",
              "    <tr>\n",
              "      <th>24</th>\n",
              "      <td>(14.0, 15.0]</td>\n",
              "      <td>5</td>\n",
              "      <td>1</td>\n",
              "      <td>6</td>\n",
              "    </tr>\n",
              "    <tr>\n",
              "      <th>25</th>\n",
              "      <td>(15.0, 16.0]</td>\n",
              "      <td>2</td>\n",
              "      <td>1</td>\n",
              "      <td>3</td>\n",
              "    </tr>\n",
              "    <tr>\n",
              "      <th>26</th>\n",
              "      <td>(16.0, 17.0]</td>\n",
              "      <td>1</td>\n",
              "      <td>1</td>\n",
              "      <td>2</td>\n",
              "    </tr>\n",
              "    <tr>\n",
              "      <th>27</th>\n",
              "      <td>(17.0, 18.0]</td>\n",
              "      <td>2</td>\n",
              "      <td>0</td>\n",
              "      <td>2</td>\n",
              "    </tr>\n",
              "    <tr>\n",
              "      <th>29</th>\n",
              "      <td>(19.0, 20.0]</td>\n",
              "      <td>1</td>\n",
              "      <td>0</td>\n",
              "      <td>1</td>\n",
              "    </tr>\n",
              "    <tr>\n",
              "      <th>30</th>\n",
              "      <td>(20.0, 25.0]</td>\n",
              "      <td>2</td>\n",
              "      <td>2</td>\n",
              "      <td>4</td>\n",
              "    </tr>\n",
              "    <tr>\n",
              "      <th>31</th>\n",
              "      <td>(25.0, 30.0]</td>\n",
              "      <td>2</td>\n",
              "      <td>0</td>\n",
              "      <td>2</td>\n",
              "    </tr>\n",
              "    <tr>\n",
              "      <th>32</th>\n",
              "      <td>(30.0, 35.0]</td>\n",
              "      <td>1</td>\n",
              "      <td>0</td>\n",
              "      <td>1</td>\n",
              "    </tr>\n",
              "    <tr>\n",
              "      <th>33</th>\n",
              "      <td>(35.0, 40.0]</td>\n",
              "      <td>2</td>\n",
              "      <td>0</td>\n",
              "      <td>2</td>\n",
              "    </tr>\n",
              "    <tr>\n",
              "      <th>53</th>\n",
              "      <td>(135.0, 140.0]</td>\n",
              "      <td>1</td>\n",
              "      <td>0</td>\n",
              "      <td>1</td>\n",
              "    </tr>\n",
              "  </tbody>\n",
              "</table>\n",
              "</div>"
            ],
            "text/plain": [
              "         BIN_RANGE  NB_OF_TRAIN_TRAINS  NB_TRAINS_TEST  NB_TRAINS_ALL\n",
              "0       (0.0, 0.5]                   6               1              7\n",
              "1       (0.5, 1.0]                 109              27            136\n",
              "2       (1.0, 1.5]                  77              30            107\n",
              "3       (1.5, 2.0]                  48              10             58\n",
              "4       (2.0, 2.5]                  47               9             56\n",
              "5       (2.5, 3.0]                  37               9             46\n",
              "6       (3.0, 3.5]                  27              12             39\n",
              "7       (3.5, 4.0]                  24               4             28\n",
              "8       (4.0, 4.5]                  23               4             27\n",
              "9       (4.5, 5.0]                  15               6             21\n",
              "10      (5.0, 5.5]                  19               3             22\n",
              "11      (5.5, 6.0]                   9               5             14\n",
              "12      (6.0, 6.5]                   9               2             11\n",
              "13      (6.5, 7.0]                  11               6             17\n",
              "14      (7.0, 7.5]                   8               3             11\n",
              "15      (7.5, 8.0]                   8               1              9\n",
              "16      (8.0, 8.5]                   7               0              7\n",
              "17      (8.5, 9.0]                   4               4              8\n",
              "18      (9.0, 9.5]                   3               3              6\n",
              "19     (9.5, 10.0]                   9               0              9\n",
              "20    (10.0, 11.0]                  13               1             14\n",
              "21    (11.0, 12.0]                   4               1              5\n",
              "22    (12.0, 13.0]                   1               2              3\n",
              "23    (13.0, 14.0]                   6               0              6\n",
              "24    (14.0, 15.0]                   5               1              6\n",
              "25    (15.0, 16.0]                   2               1              3\n",
              "26    (16.0, 17.0]                   1               1              2\n",
              "27    (17.0, 18.0]                   2               0              2\n",
              "29    (19.0, 20.0]                   1               0              1\n",
              "30    (20.0, 25.0]                   2               2              4\n",
              "31    (25.0, 30.0]                   2               0              2\n",
              "32    (30.0, 35.0]                   1               0              1\n",
              "33    (35.0, 40.0]                   2               0              2\n",
              "53  (135.0, 140.0]                   1               0              1"
            ]
          },
          "execution_count": 14,
          "metadata": {},
          "output_type": "execute_result"
        }
      ],
      "source": [
        "# Count unique trains per bin for test and all datasets\n",
        "test_counts = test_df.groupby('DWELL_TIME_BIN', observed=False)['TRAIN_ID'].nunique()\n",
        "all_counts = df.groupby('DWELL_TIME_BIN', observed=False)['TRAIN_ID'].nunique()\n",
        "\n",
        "# Map counts to bins_df\n",
        "bins_df['NB_TRAINS_TEST'] = bins_df['BIN_RANGE'].map(test_counts).fillna(0).astype(int)\n",
        "bins_df['NB_TRAINS_ALL'] = bins_df['BIN_RANGE'].map(all_counts).fillna(0).astype(int)\n",
        "\n",
        "# Keep only bins with data\n",
        "bins_df = bins_df[bins_df['NB_TRAINS_ALL'] > 0]\n",
        "\n",
        "# Display result\n",
        "bins_df"
      ]
    },
    {
      "cell_type": "code",
      "execution_count": null,
      "id": "aaf9e1f9",
      "metadata": {
        "id": "aaf9e1f9",
        "outputId": "0f050b17-7371-4528-bbe9-c0841a4177e9"
      },
      "outputs": [
        {
          "data": {
            "application/vnd.plotly.v1+json": {
              "config": {
                "plotlyServerURL": "https://plot.ly"
              },
              "data": [
                {
                  "marker": {
                    "color": "blue"
                  },
                  "name": "DWELL_TIME_with_outliers",
                  "opacity": 0.7,
                  "text": {
                    "bdata": "AAAAAAAAHEAAAAAAAABhQAAAAAAAwFpAAAAAAAAATUAAAAAAAABMQAAAAAAAAEdAAAAAAACAQ0AAAAAAAAA8QAAAAAAAADtAAAAAAAAANUAAAAAAAAA2QAAAAAAAACxAAAAAAAAAJkAAAAAAAAAxQAAAAAAAACZAAAAAAAAAIkAAAAAAAAAcQAAAAAAAACBAAAAAAAAAGEAAAAAAAAAiQAAAAAAAACxAAAAAAAAAFEAAAAAAAAAIQAAAAAAAABhAAAAAAAAAGEAAAAAAAAAIQAAAAAAAAABAAAAAAAAAAEAAAAAAAADwPwAAAAAAABBAAAAAAAAAAEAAAAAAAADwPwAAAAAAAABAAAAAAAAA8D8=",
                    "dtype": "f8"
                  },
                  "textposition": "auto",
                  "type": "bar",
                  "x": [
                    "(0.0, 0.5]",
                    "(0.5, 1.0]",
                    "(1.0, 1.5]",
                    "(1.5, 2.0]",
                    "(2.0, 2.5]",
                    "(2.5, 3.0]",
                    "(3.0, 3.5]",
                    "(3.5, 4.0]",
                    "(4.0, 4.5]",
                    "(4.5, 5.0]",
                    "(5.0, 5.5]",
                    "(5.5, 6.0]",
                    "(6.0, 6.5]",
                    "(6.5, 7.0]",
                    "(7.0, 7.5]",
                    "(7.5, 8.0]",
                    "(8.0, 8.5]",
                    "(8.5, 9.0]",
                    "(9.0, 9.5]",
                    "(9.5, 10.0]",
                    "(10.0, 11.0]",
                    "(11.0, 12.0]",
                    "(12.0, 13.0]",
                    "(13.0, 14.0]",
                    "(14.0, 15.0]",
                    "(15.0, 16.0]",
                    "(16.0, 17.0]",
                    "(17.0, 18.0]",
                    "(19.0, 20.0]",
                    "(20.0, 25.0]",
                    "(25.0, 30.0]",
                    "(30.0, 35.0]",
                    "(35.0, 40.0]",
                    "(135.0, 140.0]"
                  ],
                  "y": {
                    "bdata": "BwCIAGsAOgA4AC4AJwAcABsAFQAWAA4ACwARAAsACQAHAAgABgAJAA4ABQADAAYABgADAAIAAgABAAQAAgABAAIAAQA=",
                    "dtype": "i2"
                  }
                },
                {
                  "marker": {
                    "color": "red"
                  },
                  "name": "DWELL_TIME_without_outliers",
                  "opacity": 0.7,
                  "text": {
                    "bdata": "AAAAAAAAAAAAAAAAAABhQAAAAAAAwFpAAAAAAAAATUAAAAAAAABMQAAAAAAAAEdAAAAAAAAAAAAAAAAAAAAAAAAAAAAAAAAAAAAAAAAAAAAAAAAAAAAAAAAAAAAAAAAAAAAAAAAAAAAAAAAAAAAAAAAAAAAAAAAAAAAAAAAAAAAAAAAAAAAAAAAAAAAAAAAAAAAAAAAAAAAAAAAAAAAAAAAAAAAAAAAAAAAAAAAAAAAAAAAAAAAAAAAAAAAAAAAAAAAAAAAAAAAAAAAAAAAAAAAAAAAAAAAAAAAAAAAAAAAAAAAAAAAAAAAAAAAAAAAAAAAAAAAAAAAAAAAAAAAAAAAAAAAAAAAAAAAAAAAAAAA=",
                    "dtype": "f8"
                  },
                  "textposition": "auto",
                  "type": "bar",
                  "x": [
                    "(0.0, 0.5]",
                    "(0.5, 1.0]",
                    "(1.0, 1.5]",
                    "(1.5, 2.0]",
                    "(2.0, 2.5]",
                    "(2.5, 3.0]",
                    "(3.0, 3.5]",
                    "(3.5, 4.0]",
                    "(4.0, 4.5]",
                    "(4.5, 5.0]",
                    "(5.0, 5.5]",
                    "(5.5, 6.0]",
                    "(6.0, 6.5]",
                    "(6.5, 7.0]",
                    "(7.0, 7.5]",
                    "(7.5, 8.0]",
                    "(8.0, 8.5]",
                    "(8.5, 9.0]",
                    "(9.0, 9.5]",
                    "(9.5, 10.0]",
                    "(10.0, 11.0]",
                    "(11.0, 12.0]",
                    "(12.0, 13.0]",
                    "(13.0, 14.0]",
                    "(14.0, 15.0]",
                    "(15.0, 16.0]",
                    "(16.0, 17.0]",
                    "(17.0, 18.0]",
                    "(19.0, 20.0]",
                    "(20.0, 25.0]",
                    "(25.0, 30.0]",
                    "(30.0, 35.0]",
                    "(35.0, 40.0]",
                    "(135.0, 140.0]"
                  ],
                  "y": {
                    "bdata": "AACIAGsAOgA4AC4AAAAAAAAAAAAAAAAAAAAAAAAAAAAAAAAAAAAAAAAAAAAAAAAAAAAAAAAAAAAAAAAAAAAAAAAAAAA=",
                    "dtype": "i2"
                  }
                }
              ],
              "layout": {
                "barmode": "group",
                "height": 600,
                "hovermode": "x unified",
                "template": {
                  "data": {
                    "bar": [
                      {
                        "error_x": {
                          "color": "#2a3f5f"
                        },
                        "error_y": {
                          "color": "#2a3f5f"
                        },
                        "marker": {
                          "line": {
                            "color": "#E5ECF6",
                            "width": 0.5
                          },
                          "pattern": {
                            "fillmode": "overlay",
                            "size": 10,
                            "solidity": 0.2
                          }
                        },
                        "type": "bar"
                      }
                    ],
                    "barpolar": [
                      {
                        "marker": {
                          "line": {
                            "color": "#E5ECF6",
                            "width": 0.5
                          },
                          "pattern": {
                            "fillmode": "overlay",
                            "size": 10,
                            "solidity": 0.2
                          }
                        },
                        "type": "barpolar"
                      }
                    ],
                    "carpet": [
                      {
                        "aaxis": {
                          "endlinecolor": "#2a3f5f",
                          "gridcolor": "white",
                          "linecolor": "white",
                          "minorgridcolor": "white",
                          "startlinecolor": "#2a3f5f"
                        },
                        "baxis": {
                          "endlinecolor": "#2a3f5f",
                          "gridcolor": "white",
                          "linecolor": "white",
                          "minorgridcolor": "white",
                          "startlinecolor": "#2a3f5f"
                        },
                        "type": "carpet"
                      }
                    ],
                    "choropleth": [
                      {
                        "colorbar": {
                          "outlinewidth": 0,
                          "ticks": ""
                        },
                        "type": "choropleth"
                      }
                    ],
                    "contour": [
                      {
                        "colorbar": {
                          "outlinewidth": 0,
                          "ticks": ""
                        },
                        "colorscale": [
                          [
                            0,
                            "#0d0887"
                          ],
                          [
                            0.1111111111111111,
                            "#46039f"
                          ],
                          [
                            0.2222222222222222,
                            "#7201a8"
                          ],
                          [
                            0.3333333333333333,
                            "#9c179e"
                          ],
                          [
                            0.4444444444444444,
                            "#bd3786"
                          ],
                          [
                            0.5555555555555556,
                            "#d8576b"
                          ],
                          [
                            0.6666666666666666,
                            "#ed7953"
                          ],
                          [
                            0.7777777777777778,
                            "#fb9f3a"
                          ],
                          [
                            0.8888888888888888,
                            "#fdca26"
                          ],
                          [
                            1,
                            "#f0f921"
                          ]
                        ],
                        "type": "contour"
                      }
                    ],
                    "contourcarpet": [
                      {
                        "colorbar": {
                          "outlinewidth": 0,
                          "ticks": ""
                        },
                        "type": "contourcarpet"
                      }
                    ],
                    "heatmap": [
                      {
                        "colorbar": {
                          "outlinewidth": 0,
                          "ticks": ""
                        },
                        "colorscale": [
                          [
                            0,
                            "#0d0887"
                          ],
                          [
                            0.1111111111111111,
                            "#46039f"
                          ],
                          [
                            0.2222222222222222,
                            "#7201a8"
                          ],
                          [
                            0.3333333333333333,
                            "#9c179e"
                          ],
                          [
                            0.4444444444444444,
                            "#bd3786"
                          ],
                          [
                            0.5555555555555556,
                            "#d8576b"
                          ],
                          [
                            0.6666666666666666,
                            "#ed7953"
                          ],
                          [
                            0.7777777777777778,
                            "#fb9f3a"
                          ],
                          [
                            0.8888888888888888,
                            "#fdca26"
                          ],
                          [
                            1,
                            "#f0f921"
                          ]
                        ],
                        "type": "heatmap"
                      }
                    ],
                    "histogram": [
                      {
                        "marker": {
                          "pattern": {
                            "fillmode": "overlay",
                            "size": 10,
                            "solidity": 0.2
                          }
                        },
                        "type": "histogram"
                      }
                    ],
                    "histogram2d": [
                      {
                        "colorbar": {
                          "outlinewidth": 0,
                          "ticks": ""
                        },
                        "colorscale": [
                          [
                            0,
                            "#0d0887"
                          ],
                          [
                            0.1111111111111111,
                            "#46039f"
                          ],
                          [
                            0.2222222222222222,
                            "#7201a8"
                          ],
                          [
                            0.3333333333333333,
                            "#9c179e"
                          ],
                          [
                            0.4444444444444444,
                            "#bd3786"
                          ],
                          [
                            0.5555555555555556,
                            "#d8576b"
                          ],
                          [
                            0.6666666666666666,
                            "#ed7953"
                          ],
                          [
                            0.7777777777777778,
                            "#fb9f3a"
                          ],
                          [
                            0.8888888888888888,
                            "#fdca26"
                          ],
                          [
                            1,
                            "#f0f921"
                          ]
                        ],
                        "type": "histogram2d"
                      }
                    ],
                    "histogram2dcontour": [
                      {
                        "colorbar": {
                          "outlinewidth": 0,
                          "ticks": ""
                        },
                        "colorscale": [
                          [
                            0,
                            "#0d0887"
                          ],
                          [
                            0.1111111111111111,
                            "#46039f"
                          ],
                          [
                            0.2222222222222222,
                            "#7201a8"
                          ],
                          [
                            0.3333333333333333,
                            "#9c179e"
                          ],
                          [
                            0.4444444444444444,
                            "#bd3786"
                          ],
                          [
                            0.5555555555555556,
                            "#d8576b"
                          ],
                          [
                            0.6666666666666666,
                            "#ed7953"
                          ],
                          [
                            0.7777777777777778,
                            "#fb9f3a"
                          ],
                          [
                            0.8888888888888888,
                            "#fdca26"
                          ],
                          [
                            1,
                            "#f0f921"
                          ]
                        ],
                        "type": "histogram2dcontour"
                      }
                    ],
                    "mesh3d": [
                      {
                        "colorbar": {
                          "outlinewidth": 0,
                          "ticks": ""
                        },
                        "type": "mesh3d"
                      }
                    ],
                    "parcoords": [
                      {
                        "line": {
                          "colorbar": {
                            "outlinewidth": 0,
                            "ticks": ""
                          }
                        },
                        "type": "parcoords"
                      }
                    ],
                    "pie": [
                      {
                        "automargin": true,
                        "type": "pie"
                      }
                    ],
                    "scatter": [
                      {
                        "fillpattern": {
                          "fillmode": "overlay",
                          "size": 10,
                          "solidity": 0.2
                        },
                        "type": "scatter"
                      }
                    ],
                    "scatter3d": [
                      {
                        "line": {
                          "colorbar": {
                            "outlinewidth": 0,
                            "ticks": ""
                          }
                        },
                        "marker": {
                          "colorbar": {
                            "outlinewidth": 0,
                            "ticks": ""
                          }
                        },
                        "type": "scatter3d"
                      }
                    ],
                    "scattercarpet": [
                      {
                        "marker": {
                          "colorbar": {
                            "outlinewidth": 0,
                            "ticks": ""
                          }
                        },
                        "type": "scattercarpet"
                      }
                    ],
                    "scattergeo": [
                      {
                        "marker": {
                          "colorbar": {
                            "outlinewidth": 0,
                            "ticks": ""
                          }
                        },
                        "type": "scattergeo"
                      }
                    ],
                    "scattergl": [
                      {
                        "marker": {
                          "colorbar": {
                            "outlinewidth": 0,
                            "ticks": ""
                          }
                        },
                        "type": "scattergl"
                      }
                    ],
                    "scattermap": [
                      {
                        "marker": {
                          "colorbar": {
                            "outlinewidth": 0,
                            "ticks": ""
                          }
                        },
                        "type": "scattermap"
                      }
                    ],
                    "scattermapbox": [
                      {
                        "marker": {
                          "colorbar": {
                            "outlinewidth": 0,
                            "ticks": ""
                          }
                        },
                        "type": "scattermapbox"
                      }
                    ],
                    "scatterpolar": [
                      {
                        "marker": {
                          "colorbar": {
                            "outlinewidth": 0,
                            "ticks": ""
                          }
                        },
                        "type": "scatterpolar"
                      }
                    ],
                    "scatterpolargl": [
                      {
                        "marker": {
                          "colorbar": {
                            "outlinewidth": 0,
                            "ticks": ""
                          }
                        },
                        "type": "scatterpolargl"
                      }
                    ],
                    "scatterternary": [
                      {
                        "marker": {
                          "colorbar": {
                            "outlinewidth": 0,
                            "ticks": ""
                          }
                        },
                        "type": "scatterternary"
                      }
                    ],
                    "surface": [
                      {
                        "colorbar": {
                          "outlinewidth": 0,
                          "ticks": ""
                        },
                        "colorscale": [
                          [
                            0,
                            "#0d0887"
                          ],
                          [
                            0.1111111111111111,
                            "#46039f"
                          ],
                          [
                            0.2222222222222222,
                            "#7201a8"
                          ],
                          [
                            0.3333333333333333,
                            "#9c179e"
                          ],
                          [
                            0.4444444444444444,
                            "#bd3786"
                          ],
                          [
                            0.5555555555555556,
                            "#d8576b"
                          ],
                          [
                            0.6666666666666666,
                            "#ed7953"
                          ],
                          [
                            0.7777777777777778,
                            "#fb9f3a"
                          ],
                          [
                            0.8888888888888888,
                            "#fdca26"
                          ],
                          [
                            1,
                            "#f0f921"
                          ]
                        ],
                        "type": "surface"
                      }
                    ],
                    "table": [
                      {
                        "cells": {
                          "fill": {
                            "color": "#EBF0F8"
                          },
                          "line": {
                            "color": "white"
                          }
                        },
                        "header": {
                          "fill": {
                            "color": "#C8D4E3"
                          },
                          "line": {
                            "color": "white"
                          }
                        },
                        "type": "table"
                      }
                    ]
                  },
                  "layout": {
                    "annotationdefaults": {
                      "arrowcolor": "#2a3f5f",
                      "arrowhead": 0,
                      "arrowwidth": 1
                    },
                    "autotypenumbers": "strict",
                    "coloraxis": {
                      "colorbar": {
                        "outlinewidth": 0,
                        "ticks": ""
                      }
                    },
                    "colorscale": {
                      "diverging": [
                        [
                          0,
                          "#8e0152"
                        ],
                        [
                          0.1,
                          "#c51b7d"
                        ],
                        [
                          0.2,
                          "#de77ae"
                        ],
                        [
                          0.3,
                          "#f1b6da"
                        ],
                        [
                          0.4,
                          "#fde0ef"
                        ],
                        [
                          0.5,
                          "#f7f7f7"
                        ],
                        [
                          0.6,
                          "#e6f5d0"
                        ],
                        [
                          0.7,
                          "#b8e186"
                        ],
                        [
                          0.8,
                          "#7fbc41"
                        ],
                        [
                          0.9,
                          "#4d9221"
                        ],
                        [
                          1,
                          "#276419"
                        ]
                      ],
                      "sequential": [
                        [
                          0,
                          "#0d0887"
                        ],
                        [
                          0.1111111111111111,
                          "#46039f"
                        ],
                        [
                          0.2222222222222222,
                          "#7201a8"
                        ],
                        [
                          0.3333333333333333,
                          "#9c179e"
                        ],
                        [
                          0.4444444444444444,
                          "#bd3786"
                        ],
                        [
                          0.5555555555555556,
                          "#d8576b"
                        ],
                        [
                          0.6666666666666666,
                          "#ed7953"
                        ],
                        [
                          0.7777777777777778,
                          "#fb9f3a"
                        ],
                        [
                          0.8888888888888888,
                          "#fdca26"
                        ],
                        [
                          1,
                          "#f0f921"
                        ]
                      ],
                      "sequentialminus": [
                        [
                          0,
                          "#0d0887"
                        ],
                        [
                          0.1111111111111111,
                          "#46039f"
                        ],
                        [
                          0.2222222222222222,
                          "#7201a8"
                        ],
                        [
                          0.3333333333333333,
                          "#9c179e"
                        ],
                        [
                          0.4444444444444444,
                          "#bd3786"
                        ],
                        [
                          0.5555555555555556,
                          "#d8576b"
                        ],
                        [
                          0.6666666666666666,
                          "#ed7953"
                        ],
                        [
                          0.7777777777777778,
                          "#fb9f3a"
                        ],
                        [
                          0.8888888888888888,
                          "#fdca26"
                        ],
                        [
                          1,
                          "#f0f921"
                        ]
                      ]
                    },
                    "colorway": [
                      "#636efa",
                      "#EF553B",
                      "#00cc96",
                      "#ab63fa",
                      "#FFA15A",
                      "#19d3f3",
                      "#FF6692",
                      "#B6E880",
                      "#FF97FF",
                      "#FECB52"
                    ],
                    "font": {
                      "color": "#2a3f5f"
                    },
                    "geo": {
                      "bgcolor": "white",
                      "lakecolor": "white",
                      "landcolor": "#E5ECF6",
                      "showlakes": true,
                      "showland": true,
                      "subunitcolor": "white"
                    },
                    "hoverlabel": {
                      "align": "left"
                    },
                    "hovermode": "closest",
                    "mapbox": {
                      "style": "light"
                    },
                    "paper_bgcolor": "white",
                    "plot_bgcolor": "#E5ECF6",
                    "polar": {
                      "angularaxis": {
                        "gridcolor": "white",
                        "linecolor": "white",
                        "ticks": ""
                      },
                      "bgcolor": "#E5ECF6",
                      "radialaxis": {
                        "gridcolor": "white",
                        "linecolor": "white",
                        "ticks": ""
                      }
                    },
                    "scene": {
                      "xaxis": {
                        "backgroundcolor": "#E5ECF6",
                        "gridcolor": "white",
                        "gridwidth": 2,
                        "linecolor": "white",
                        "showbackground": true,
                        "ticks": "",
                        "zerolinecolor": "white"
                      },
                      "yaxis": {
                        "backgroundcolor": "#E5ECF6",
                        "gridcolor": "white",
                        "gridwidth": 2,
                        "linecolor": "white",
                        "showbackground": true,
                        "ticks": "",
                        "zerolinecolor": "white"
                      },
                      "zaxis": {
                        "backgroundcolor": "#E5ECF6",
                        "gridcolor": "white",
                        "gridwidth": 2,
                        "linecolor": "white",
                        "showbackground": true,
                        "ticks": "",
                        "zerolinecolor": "white"
                      }
                    },
                    "shapedefaults": {
                      "line": {
                        "color": "#2a3f5f"
                      }
                    },
                    "ternary": {
                      "aaxis": {
                        "gridcolor": "white",
                        "linecolor": "white",
                        "ticks": ""
                      },
                      "baxis": {
                        "gridcolor": "white",
                        "linecolor": "white",
                        "ticks": ""
                      },
                      "bgcolor": "#E5ECF6",
                      "caxis": {
                        "gridcolor": "white",
                        "linecolor": "white",
                        "ticks": ""
                      }
                    },
                    "title": {
                      "x": 0.05
                    },
                    "xaxis": {
                      "automargin": true,
                      "gridcolor": "white",
                      "linecolor": "white",
                      "ticks": "",
                      "title": {
                        "standoff": 15
                      },
                      "zerolinecolor": "white",
                      "zerolinewidth": 2
                    },
                    "yaxis": {
                      "automargin": true,
                      "gridcolor": "white",
                      "linecolor": "white",
                      "ticks": "",
                      "title": {
                        "standoff": 15
                      },
                      "zerolinecolor": "white",
                      "zerolinewidth": 2
                    }
                  }
                },
                "title": {
                  "text": "Distribution plot for DWELL_TIME with & Without outliers - ALL DESTINATIONS"
                },
                "width": 1200,
                "xaxis": {
                  "tickangle": -45,
                  "title": {
                    "text": "DWELL_TIME_BIN"
                  }
                },
                "yaxis": {
                  "title": {
                    "text": "Count of Train ID"
                  }
                }
              }
            }
          },
          "metadata": {},
          "output_type": "display_data"
        }
      ],
      "source": [
        "# Create figure\n",
        "fig = go.Figure()\n",
        "\n",
        "# Add trace for with outliers (using NB_TRAINS_ALL)\n",
        "fig.add_trace(go.Bar(\n",
        "    name='DWELL_TIME_with_outliers',\n",
        "    x=[str(interval) for interval in bins_df['BIN_RANGE']],\n",
        "    y=bins_df['NB_TRAINS_ALL'],\n",
        "    marker_color='blue',\n",
        "    opacity=0.7,\n",
        "    text=bins_df['NB_TRAINS_ALL'],\n",
        "    textposition='auto'\n",
        "))\n",
        "\n",
        "# Count unique trains without outliers\n",
        "bin_counts_without = df[df['IS_OUTLIER'] == False].groupby('DWELL_TIME_BIN', observed=False)['TRAIN_ID'].nunique()\n",
        "bins_df['NB_TRAINS_NO_OUTLIERS'] = bins_df['BIN_RANGE'].map(bin_counts_without).fillna(0).astype(int)\n",
        "\n",
        "# Add trace for without outliers\n",
        "fig.add_trace(go.Bar(\n",
        "    name='DWELL_TIME_without_outliers',\n",
        "    x=[str(interval) for interval in bins_df['BIN_RANGE']],\n",
        "    y=bins_df['NB_TRAINS_NO_OUTLIERS'],\n",
        "    marker_color='red',\n",
        "    opacity=0.7,\n",
        "    text=bins_df['NB_TRAINS_NO_OUTLIERS'],\n",
        "    textposition='auto'\n",
        "))\n",
        "\n",
        "# Update layout\n",
        "fig.update_layout(\n",
        "    title='Distribution plot for DWELL_TIME with & Without outliers - ALL DESTINATIONS',\n",
        "    xaxis_title='DWELL_TIME_BIN',\n",
        "    yaxis_title='Count of Train ID',\n",
        "    barmode='group',\n",
        "    xaxis_tickangle=-45,\n",
        "    height=600,\n",
        "    width=1200,\n",
        "    hovermode='x unified'\n",
        ")\n",
        "\n",
        "# Show plot\n",
        "fig.show()\n"
      ]
    },
    {
      "cell_type": "code",
      "execution_count": null,
      "id": "150cc469",
      "metadata": {
        "id": "150cc469",
        "outputId": "cee77ca2-38ec-4edd-d31b-c4198b47592f"
      },
      "outputs": [
        {
          "data": {
            "application/vnd.plotly.v1+json": {
              "config": {
                "plotlyServerURL": "https://plot.ly"
              },
              "data": [
                {
                  "marker": {
                    "color": "blue"
                  },
                  "name": "DWELL_TIME_with_outliers",
                  "opacity": 0.7,
                  "text": [
                    "1",
                    "17",
                    "14",
                    "8",
                    "10",
                    "5",
                    "8",
                    "4",
                    "2",
                    "6",
                    "2",
                    "2",
                    "3",
                    "2",
                    "2",
                    "1",
                    "1",
                    "2",
                    "3",
                    "1",
                    "2",
                    "1",
                    "2",
                    "2",
                    "1",
                    "1"
                  ],
                  "textposition": "auto",
                  "type": "bar",
                  "x": [
                    "(0.0, 0.5]",
                    "(0.5, 1.0]",
                    "(1.0, 1.5]",
                    "(1.5, 2.0]",
                    "(2.0, 2.5]",
                    "(2.5, 3.0]",
                    "(3.0, 3.5]",
                    "(3.5, 4.0]",
                    "(4.0, 4.5]",
                    "(4.5, 5.0]",
                    "(5.0, 5.5]",
                    "(5.5, 6.0]",
                    "(6.5, 7.0]",
                    "(7.0, 7.5]",
                    "(7.5, 8.0]",
                    "(8.0, 8.5]",
                    "(8.5, 9.0]",
                    "(9.5, 10.0]",
                    "(10.0, 11.0]",
                    "(11.0, 12.0]",
                    "(14.0, 15.0]",
                    "(16.0, 17.0]",
                    "(17.0, 18.0]",
                    "(20.0, 25.0]",
                    "(35.0, 40.0]",
                    "(135.0, 140.0]"
                  ],
                  "y": [
                    1,
                    17,
                    14,
                    8,
                    10,
                    5,
                    8,
                    4,
                    2,
                    6,
                    2,
                    2,
                    3,
                    2,
                    2,
                    1,
                    1,
                    2,
                    3,
                    1,
                    2,
                    1,
                    2,
                    2,
                    1,
                    1
                  ]
                },
                {
                  "marker": {
                    "color": "red"
                  },
                  "name": "DWELL_TIME_without_outliers",
                  "opacity": 0.7,
                  "text": [
                    "0",
                    "17",
                    "14",
                    "8",
                    "10",
                    "5",
                    "0",
                    "0",
                    "0",
                    "0",
                    "0",
                    "0",
                    "0",
                    "0",
                    "0",
                    "0",
                    "0",
                    "0",
                    "0",
                    "0",
                    "0",
                    "0",
                    "0",
                    "0",
                    "0",
                    "0"
                  ],
                  "textposition": "auto",
                  "type": "bar",
                  "x": [
                    "(0.0, 0.5]",
                    "(0.5, 1.0]",
                    "(1.0, 1.5]",
                    "(1.5, 2.0]",
                    "(2.0, 2.5]",
                    "(2.5, 3.0]",
                    "(3.0, 3.5]",
                    "(3.5, 4.0]",
                    "(4.0, 4.5]",
                    "(4.5, 5.0]",
                    "(5.0, 5.5]",
                    "(5.5, 6.0]",
                    "(6.5, 7.0]",
                    "(7.0, 7.5]",
                    "(7.5, 8.0]",
                    "(8.0, 8.5]",
                    "(8.5, 9.0]",
                    "(9.5, 10.0]",
                    "(10.0, 11.0]",
                    "(11.0, 12.0]",
                    "(14.0, 15.0]",
                    "(16.0, 17.0]",
                    "(17.0, 18.0]",
                    "(20.0, 25.0]",
                    "(35.0, 40.0]",
                    "(135.0, 140.0]"
                  ],
                  "y": [
                    0,
                    17,
                    14,
                    8,
                    10,
                    5,
                    0,
                    0,
                    0,
                    0,
                    0,
                    0,
                    0,
                    0,
                    0,
                    0,
                    0,
                    0,
                    0,
                    0,
                    0,
                    0,
                    0,
                    0,
                    0,
                    0
                  ]
                }
              ],
              "layout": {
                "barmode": "group",
                "height": 600,
                "hovermode": "x unified",
                "template": {
                  "data": {
                    "bar": [
                      {
                        "error_x": {
                          "color": "#2a3f5f"
                        },
                        "error_y": {
                          "color": "#2a3f5f"
                        },
                        "marker": {
                          "line": {
                            "color": "#E5ECF6",
                            "width": 0.5
                          },
                          "pattern": {
                            "fillmode": "overlay",
                            "size": 10,
                            "solidity": 0.2
                          }
                        },
                        "type": "bar"
                      }
                    ],
                    "barpolar": [
                      {
                        "marker": {
                          "line": {
                            "color": "#E5ECF6",
                            "width": 0.5
                          },
                          "pattern": {
                            "fillmode": "overlay",
                            "size": 10,
                            "solidity": 0.2
                          }
                        },
                        "type": "barpolar"
                      }
                    ],
                    "carpet": [
                      {
                        "aaxis": {
                          "endlinecolor": "#2a3f5f",
                          "gridcolor": "white",
                          "linecolor": "white",
                          "minorgridcolor": "white",
                          "startlinecolor": "#2a3f5f"
                        },
                        "baxis": {
                          "endlinecolor": "#2a3f5f",
                          "gridcolor": "white",
                          "linecolor": "white",
                          "minorgridcolor": "white",
                          "startlinecolor": "#2a3f5f"
                        },
                        "type": "carpet"
                      }
                    ],
                    "choropleth": [
                      {
                        "colorbar": {
                          "outlinewidth": 0,
                          "ticks": ""
                        },
                        "type": "choropleth"
                      }
                    ],
                    "contour": [
                      {
                        "colorbar": {
                          "outlinewidth": 0,
                          "ticks": ""
                        },
                        "colorscale": [
                          [
                            0,
                            "#0d0887"
                          ],
                          [
                            0.1111111111111111,
                            "#46039f"
                          ],
                          [
                            0.2222222222222222,
                            "#7201a8"
                          ],
                          [
                            0.3333333333333333,
                            "#9c179e"
                          ],
                          [
                            0.4444444444444444,
                            "#bd3786"
                          ],
                          [
                            0.5555555555555556,
                            "#d8576b"
                          ],
                          [
                            0.6666666666666666,
                            "#ed7953"
                          ],
                          [
                            0.7777777777777778,
                            "#fb9f3a"
                          ],
                          [
                            0.8888888888888888,
                            "#fdca26"
                          ],
                          [
                            1,
                            "#f0f921"
                          ]
                        ],
                        "type": "contour"
                      }
                    ],
                    "contourcarpet": [
                      {
                        "colorbar": {
                          "outlinewidth": 0,
                          "ticks": ""
                        },
                        "type": "contourcarpet"
                      }
                    ],
                    "heatmap": [
                      {
                        "colorbar": {
                          "outlinewidth": 0,
                          "ticks": ""
                        },
                        "colorscale": [
                          [
                            0,
                            "#0d0887"
                          ],
                          [
                            0.1111111111111111,
                            "#46039f"
                          ],
                          [
                            0.2222222222222222,
                            "#7201a8"
                          ],
                          [
                            0.3333333333333333,
                            "#9c179e"
                          ],
                          [
                            0.4444444444444444,
                            "#bd3786"
                          ],
                          [
                            0.5555555555555556,
                            "#d8576b"
                          ],
                          [
                            0.6666666666666666,
                            "#ed7953"
                          ],
                          [
                            0.7777777777777778,
                            "#fb9f3a"
                          ],
                          [
                            0.8888888888888888,
                            "#fdca26"
                          ],
                          [
                            1,
                            "#f0f921"
                          ]
                        ],
                        "type": "heatmap"
                      }
                    ],
                    "histogram": [
                      {
                        "marker": {
                          "pattern": {
                            "fillmode": "overlay",
                            "size": 10,
                            "solidity": 0.2
                          }
                        },
                        "type": "histogram"
                      }
                    ],
                    "histogram2d": [
                      {
                        "colorbar": {
                          "outlinewidth": 0,
                          "ticks": ""
                        },
                        "colorscale": [
                          [
                            0,
                            "#0d0887"
                          ],
                          [
                            0.1111111111111111,
                            "#46039f"
                          ],
                          [
                            0.2222222222222222,
                            "#7201a8"
                          ],
                          [
                            0.3333333333333333,
                            "#9c179e"
                          ],
                          [
                            0.4444444444444444,
                            "#bd3786"
                          ],
                          [
                            0.5555555555555556,
                            "#d8576b"
                          ],
                          [
                            0.6666666666666666,
                            "#ed7953"
                          ],
                          [
                            0.7777777777777778,
                            "#fb9f3a"
                          ],
                          [
                            0.8888888888888888,
                            "#fdca26"
                          ],
                          [
                            1,
                            "#f0f921"
                          ]
                        ],
                        "type": "histogram2d"
                      }
                    ],
                    "histogram2dcontour": [
                      {
                        "colorbar": {
                          "outlinewidth": 0,
                          "ticks": ""
                        },
                        "colorscale": [
                          [
                            0,
                            "#0d0887"
                          ],
                          [
                            0.1111111111111111,
                            "#46039f"
                          ],
                          [
                            0.2222222222222222,
                            "#7201a8"
                          ],
                          [
                            0.3333333333333333,
                            "#9c179e"
                          ],
                          [
                            0.4444444444444444,
                            "#bd3786"
                          ],
                          [
                            0.5555555555555556,
                            "#d8576b"
                          ],
                          [
                            0.6666666666666666,
                            "#ed7953"
                          ],
                          [
                            0.7777777777777778,
                            "#fb9f3a"
                          ],
                          [
                            0.8888888888888888,
                            "#fdca26"
                          ],
                          [
                            1,
                            "#f0f921"
                          ]
                        ],
                        "type": "histogram2dcontour"
                      }
                    ],
                    "mesh3d": [
                      {
                        "colorbar": {
                          "outlinewidth": 0,
                          "ticks": ""
                        },
                        "type": "mesh3d"
                      }
                    ],
                    "parcoords": [
                      {
                        "line": {
                          "colorbar": {
                            "outlinewidth": 0,
                            "ticks": ""
                          }
                        },
                        "type": "parcoords"
                      }
                    ],
                    "pie": [
                      {
                        "automargin": true,
                        "type": "pie"
                      }
                    ],
                    "scatter": [
                      {
                        "fillpattern": {
                          "fillmode": "overlay",
                          "size": 10,
                          "solidity": 0.2
                        },
                        "type": "scatter"
                      }
                    ],
                    "scatter3d": [
                      {
                        "line": {
                          "colorbar": {
                            "outlinewidth": 0,
                            "ticks": ""
                          }
                        },
                        "marker": {
                          "colorbar": {
                            "outlinewidth": 0,
                            "ticks": ""
                          }
                        },
                        "type": "scatter3d"
                      }
                    ],
                    "scattercarpet": [
                      {
                        "marker": {
                          "colorbar": {
                            "outlinewidth": 0,
                            "ticks": ""
                          }
                        },
                        "type": "scattercarpet"
                      }
                    ],
                    "scattergeo": [
                      {
                        "marker": {
                          "colorbar": {
                            "outlinewidth": 0,
                            "ticks": ""
                          }
                        },
                        "type": "scattergeo"
                      }
                    ],
                    "scattergl": [
                      {
                        "marker": {
                          "colorbar": {
                            "outlinewidth": 0,
                            "ticks": ""
                          }
                        },
                        "type": "scattergl"
                      }
                    ],
                    "scattermap": [
                      {
                        "marker": {
                          "colorbar": {
                            "outlinewidth": 0,
                            "ticks": ""
                          }
                        },
                        "type": "scattermap"
                      }
                    ],
                    "scattermapbox": [
                      {
                        "marker": {
                          "colorbar": {
                            "outlinewidth": 0,
                            "ticks": ""
                          }
                        },
                        "type": "scattermapbox"
                      }
                    ],
                    "scatterpolar": [
                      {
                        "marker": {
                          "colorbar": {
                            "outlinewidth": 0,
                            "ticks": ""
                          }
                        },
                        "type": "scatterpolar"
                      }
                    ],
                    "scatterpolargl": [
                      {
                        "marker": {
                          "colorbar": {
                            "outlinewidth": 0,
                            "ticks": ""
                          }
                        },
                        "type": "scatterpolargl"
                      }
                    ],
                    "scatterternary": [
                      {
                        "marker": {
                          "colorbar": {
                            "outlinewidth": 0,
                            "ticks": ""
                          }
                        },
                        "type": "scatterternary"
                      }
                    ],
                    "surface": [
                      {
                        "colorbar": {
                          "outlinewidth": 0,
                          "ticks": ""
                        },
                        "colorscale": [
                          [
                            0,
                            "#0d0887"
                          ],
                          [
                            0.1111111111111111,
                            "#46039f"
                          ],
                          [
                            0.2222222222222222,
                            "#7201a8"
                          ],
                          [
                            0.3333333333333333,
                            "#9c179e"
                          ],
                          [
                            0.4444444444444444,
                            "#bd3786"
                          ],
                          [
                            0.5555555555555556,
                            "#d8576b"
                          ],
                          [
                            0.6666666666666666,
                            "#ed7953"
                          ],
                          [
                            0.7777777777777778,
                            "#fb9f3a"
                          ],
                          [
                            0.8888888888888888,
                            "#fdca26"
                          ],
                          [
                            1,
                            "#f0f921"
                          ]
                        ],
                        "type": "surface"
                      }
                    ],
                    "table": [
                      {
                        "cells": {
                          "fill": {
                            "color": "#EBF0F8"
                          },
                          "line": {
                            "color": "white"
                          }
                        },
                        "header": {
                          "fill": {
                            "color": "#C8D4E3"
                          },
                          "line": {
                            "color": "white"
                          }
                        },
                        "type": "table"
                      }
                    ]
                  },
                  "layout": {
                    "annotationdefaults": {
                      "arrowcolor": "#2a3f5f",
                      "arrowhead": 0,
                      "arrowwidth": 1
                    },
                    "autotypenumbers": "strict",
                    "coloraxis": {
                      "colorbar": {
                        "outlinewidth": 0,
                        "ticks": ""
                      }
                    },
                    "colorscale": {
                      "diverging": [
                        [
                          0,
                          "#8e0152"
                        ],
                        [
                          0.1,
                          "#c51b7d"
                        ],
                        [
                          0.2,
                          "#de77ae"
                        ],
                        [
                          0.3,
                          "#f1b6da"
                        ],
                        [
                          0.4,
                          "#fde0ef"
                        ],
                        [
                          0.5,
                          "#f7f7f7"
                        ],
                        [
                          0.6,
                          "#e6f5d0"
                        ],
                        [
                          0.7,
                          "#b8e186"
                        ],
                        [
                          0.8,
                          "#7fbc41"
                        ],
                        [
                          0.9,
                          "#4d9221"
                        ],
                        [
                          1,
                          "#276419"
                        ]
                      ],
                      "sequential": [
                        [
                          0,
                          "#0d0887"
                        ],
                        [
                          0.1111111111111111,
                          "#46039f"
                        ],
                        [
                          0.2222222222222222,
                          "#7201a8"
                        ],
                        [
                          0.3333333333333333,
                          "#9c179e"
                        ],
                        [
                          0.4444444444444444,
                          "#bd3786"
                        ],
                        [
                          0.5555555555555556,
                          "#d8576b"
                        ],
                        [
                          0.6666666666666666,
                          "#ed7953"
                        ],
                        [
                          0.7777777777777778,
                          "#fb9f3a"
                        ],
                        [
                          0.8888888888888888,
                          "#fdca26"
                        ],
                        [
                          1,
                          "#f0f921"
                        ]
                      ],
                      "sequentialminus": [
                        [
                          0,
                          "#0d0887"
                        ],
                        [
                          0.1111111111111111,
                          "#46039f"
                        ],
                        [
                          0.2222222222222222,
                          "#7201a8"
                        ],
                        [
                          0.3333333333333333,
                          "#9c179e"
                        ],
                        [
                          0.4444444444444444,
                          "#bd3786"
                        ],
                        [
                          0.5555555555555556,
                          "#d8576b"
                        ],
                        [
                          0.6666666666666666,
                          "#ed7953"
                        ],
                        [
                          0.7777777777777778,
                          "#fb9f3a"
                        ],
                        [
                          0.8888888888888888,
                          "#fdca26"
                        ],
                        [
                          1,
                          "#f0f921"
                        ]
                      ]
                    },
                    "colorway": [
                      "#636efa",
                      "#EF553B",
                      "#00cc96",
                      "#ab63fa",
                      "#FFA15A",
                      "#19d3f3",
                      "#FF6692",
                      "#B6E880",
                      "#FF97FF",
                      "#FECB52"
                    ],
                    "font": {
                      "color": "#2a3f5f"
                    },
                    "geo": {
                      "bgcolor": "white",
                      "lakecolor": "white",
                      "landcolor": "#E5ECF6",
                      "showlakes": true,
                      "showland": true,
                      "subunitcolor": "white"
                    },
                    "hoverlabel": {
                      "align": "left"
                    },
                    "hovermode": "closest",
                    "mapbox": {
                      "style": "light"
                    },
                    "paper_bgcolor": "white",
                    "plot_bgcolor": "#E5ECF6",
                    "polar": {
                      "angularaxis": {
                        "gridcolor": "white",
                        "linecolor": "white",
                        "ticks": ""
                      },
                      "bgcolor": "#E5ECF6",
                      "radialaxis": {
                        "gridcolor": "white",
                        "linecolor": "white",
                        "ticks": ""
                      }
                    },
                    "scene": {
                      "xaxis": {
                        "backgroundcolor": "#E5ECF6",
                        "gridcolor": "white",
                        "gridwidth": 2,
                        "linecolor": "white",
                        "showbackground": true,
                        "ticks": "",
                        "zerolinecolor": "white"
                      },
                      "yaxis": {
                        "backgroundcolor": "#E5ECF6",
                        "gridcolor": "white",
                        "gridwidth": 2,
                        "linecolor": "white",
                        "showbackground": true,
                        "ticks": "",
                        "zerolinecolor": "white"
                      },
                      "zaxis": {
                        "backgroundcolor": "#E5ECF6",
                        "gridcolor": "white",
                        "gridwidth": 2,
                        "linecolor": "white",
                        "showbackground": true,
                        "ticks": "",
                        "zerolinecolor": "white"
                      }
                    },
                    "shapedefaults": {
                      "line": {
                        "color": "#2a3f5f"
                      }
                    },
                    "ternary": {
                      "aaxis": {
                        "gridcolor": "white",
                        "linecolor": "white",
                        "ticks": ""
                      },
                      "baxis": {
                        "gridcolor": "white",
                        "linecolor": "white",
                        "ticks": ""
                      },
                      "bgcolor": "#E5ECF6",
                      "caxis": {
                        "gridcolor": "white",
                        "linecolor": "white",
                        "ticks": ""
                      }
                    },
                    "title": {
                      "x": 0.05
                    },
                    "xaxis": {
                      "automargin": true,
                      "gridcolor": "white",
                      "linecolor": "white",
                      "ticks": "",
                      "title": {
                        "standoff": 15
                      },
                      "zerolinecolor": "white",
                      "zerolinewidth": 2
                    },
                    "yaxis": {
                      "automargin": true,
                      "gridcolor": "white",
                      "linecolor": "white",
                      "ticks": "",
                      "title": {
                        "standoff": 15
                      },
                      "zerolinecolor": "white",
                      "zerolinewidth": 2
                    }
                  }
                },
                "title": {
                  "text": "Distribution plot for DWELL_TIME with & Without outliers for BISBEE"
                },
                "width": 1000,
                "xaxis": {
                  "tickangle": -45,
                  "title": {
                    "text": "DWELL_TIME_BIN"
                  }
                },
                "yaxis": {
                  "title": {
                    "text": "Count of Train ID"
                  }
                }
              }
            }
          },
          "metadata": {},
          "output_type": "display_data"
        },
        {
          "data": {
            "application/vnd.plotly.v1+json": {
              "config": {
                "plotlyServerURL": "https://plot.ly"
              },
              "data": [
                {
                  "marker": {
                    "color": "blue"
                  },
                  "name": "DWELL_TIME_with_outliers",
                  "opacity": 0.7,
                  "text": [
                    "2",
                    "55",
                    "46",
                    "19",
                    "25",
                    "21",
                    "19",
                    "15",
                    "18",
                    "12",
                    "14",
                    "9",
                    "7",
                    "12",
                    "9",
                    "6",
                    "3",
                    "6",
                    "5",
                    "7",
                    "5",
                    "4",
                    "2",
                    "3",
                    "3",
                    "3",
                    "1",
                    "1",
                    "1",
                    "2",
                    "1",
                    "1"
                  ],
                  "textposition": "auto",
                  "type": "bar",
                  "x": [
                    "(0.0, 0.5]",
                    "(0.5, 1.0]",
                    "(1.0, 1.5]",
                    "(1.5, 2.0]",
                    "(2.0, 2.5]",
                    "(2.5, 3.0]",
                    "(3.0, 3.5]",
                    "(3.5, 4.0]",
                    "(4.0, 4.5]",
                    "(4.5, 5.0]",
                    "(5.0, 5.5]",
                    "(5.5, 6.0]",
                    "(6.0, 6.5]",
                    "(6.5, 7.0]",
                    "(7.0, 7.5]",
                    "(7.5, 8.0]",
                    "(8.0, 8.5]",
                    "(8.5, 9.0]",
                    "(9.0, 9.5]",
                    "(9.5, 10.0]",
                    "(10.0, 11.0]",
                    "(11.0, 12.0]",
                    "(12.0, 13.0]",
                    "(13.0, 14.0]",
                    "(14.0, 15.0]",
                    "(15.0, 16.0]",
                    "(16.0, 17.0]",
                    "(18.0, 19.0]",
                    "(20.0, 25.0]",
                    "(25.0, 30.0]",
                    "(35.0, 40.0]",
                    "(130.0, 135.0]"
                  ],
                  "y": [
                    2,
                    55,
                    46,
                    19,
                    25,
                    21,
                    19,
                    15,
                    18,
                    12,
                    14,
                    9,
                    7,
                    12,
                    9,
                    6,
                    3,
                    6,
                    5,
                    7,
                    5,
                    4,
                    2,
                    3,
                    3,
                    3,
                    1,
                    1,
                    1,
                    2,
                    1,
                    1
                  ]
                },
                {
                  "marker": {
                    "color": "red"
                  },
                  "name": "DWELL_TIME_without_outliers",
                  "opacity": 0.7,
                  "text": [
                    "0",
                    "55",
                    "46",
                    "19",
                    "25",
                    "21",
                    "0",
                    "0",
                    "0",
                    "0",
                    "0",
                    "0",
                    "0",
                    "0",
                    "0",
                    "0",
                    "0",
                    "0",
                    "0",
                    "0",
                    "0",
                    "0",
                    "0",
                    "0",
                    "0",
                    "0",
                    "0",
                    "0",
                    "0",
                    "0",
                    "0",
                    "0"
                  ],
                  "textposition": "auto",
                  "type": "bar",
                  "x": [
                    "(0.0, 0.5]",
                    "(0.5, 1.0]",
                    "(1.0, 1.5]",
                    "(1.5, 2.0]",
                    "(2.0, 2.5]",
                    "(2.5, 3.0]",
                    "(3.0, 3.5]",
                    "(3.5, 4.0]",
                    "(4.0, 4.5]",
                    "(4.5, 5.0]",
                    "(5.0, 5.5]",
                    "(5.5, 6.0]",
                    "(6.0, 6.5]",
                    "(6.5, 7.0]",
                    "(7.0, 7.5]",
                    "(7.5, 8.0]",
                    "(8.0, 8.5]",
                    "(8.5, 9.0]",
                    "(9.0, 9.5]",
                    "(9.5, 10.0]",
                    "(10.0, 11.0]",
                    "(11.0, 12.0]",
                    "(12.0, 13.0]",
                    "(13.0, 14.0]",
                    "(14.0, 15.0]",
                    "(15.0, 16.0]",
                    "(16.0, 17.0]",
                    "(18.0, 19.0]",
                    "(20.0, 25.0]",
                    "(25.0, 30.0]",
                    "(35.0, 40.0]",
                    "(130.0, 135.0]"
                  ],
                  "y": [
                    0,
                    55,
                    46,
                    19,
                    25,
                    21,
                    0,
                    0,
                    0,
                    0,
                    0,
                    0,
                    0,
                    0,
                    0,
                    0,
                    0,
                    0,
                    0,
                    0,
                    0,
                    0,
                    0,
                    0,
                    0,
                    0,
                    0,
                    0,
                    0,
                    0,
                    0,
                    0
                  ]
                }
              ],
              "layout": {
                "barmode": "group",
                "height": 600,
                "hovermode": "x unified",
                "template": {
                  "data": {
                    "bar": [
                      {
                        "error_x": {
                          "color": "#2a3f5f"
                        },
                        "error_y": {
                          "color": "#2a3f5f"
                        },
                        "marker": {
                          "line": {
                            "color": "#E5ECF6",
                            "width": 0.5
                          },
                          "pattern": {
                            "fillmode": "overlay",
                            "size": 10,
                            "solidity": 0.2
                          }
                        },
                        "type": "bar"
                      }
                    ],
                    "barpolar": [
                      {
                        "marker": {
                          "line": {
                            "color": "#E5ECF6",
                            "width": 0.5
                          },
                          "pattern": {
                            "fillmode": "overlay",
                            "size": 10,
                            "solidity": 0.2
                          }
                        },
                        "type": "barpolar"
                      }
                    ],
                    "carpet": [
                      {
                        "aaxis": {
                          "endlinecolor": "#2a3f5f",
                          "gridcolor": "white",
                          "linecolor": "white",
                          "minorgridcolor": "white",
                          "startlinecolor": "#2a3f5f"
                        },
                        "baxis": {
                          "endlinecolor": "#2a3f5f",
                          "gridcolor": "white",
                          "linecolor": "white",
                          "minorgridcolor": "white",
                          "startlinecolor": "#2a3f5f"
                        },
                        "type": "carpet"
                      }
                    ],
                    "choropleth": [
                      {
                        "colorbar": {
                          "outlinewidth": 0,
                          "ticks": ""
                        },
                        "type": "choropleth"
                      }
                    ],
                    "contour": [
                      {
                        "colorbar": {
                          "outlinewidth": 0,
                          "ticks": ""
                        },
                        "colorscale": [
                          [
                            0,
                            "#0d0887"
                          ],
                          [
                            0.1111111111111111,
                            "#46039f"
                          ],
                          [
                            0.2222222222222222,
                            "#7201a8"
                          ],
                          [
                            0.3333333333333333,
                            "#9c179e"
                          ],
                          [
                            0.4444444444444444,
                            "#bd3786"
                          ],
                          [
                            0.5555555555555556,
                            "#d8576b"
                          ],
                          [
                            0.6666666666666666,
                            "#ed7953"
                          ],
                          [
                            0.7777777777777778,
                            "#fb9f3a"
                          ],
                          [
                            0.8888888888888888,
                            "#fdca26"
                          ],
                          [
                            1,
                            "#f0f921"
                          ]
                        ],
                        "type": "contour"
                      }
                    ],
                    "contourcarpet": [
                      {
                        "colorbar": {
                          "outlinewidth": 0,
                          "ticks": ""
                        },
                        "type": "contourcarpet"
                      }
                    ],
                    "heatmap": [
                      {
                        "colorbar": {
                          "outlinewidth": 0,
                          "ticks": ""
                        },
                        "colorscale": [
                          [
                            0,
                            "#0d0887"
                          ],
                          [
                            0.1111111111111111,
                            "#46039f"
                          ],
                          [
                            0.2222222222222222,
                            "#7201a8"
                          ],
                          [
                            0.3333333333333333,
                            "#9c179e"
                          ],
                          [
                            0.4444444444444444,
                            "#bd3786"
                          ],
                          [
                            0.5555555555555556,
                            "#d8576b"
                          ],
                          [
                            0.6666666666666666,
                            "#ed7953"
                          ],
                          [
                            0.7777777777777778,
                            "#fb9f3a"
                          ],
                          [
                            0.8888888888888888,
                            "#fdca26"
                          ],
                          [
                            1,
                            "#f0f921"
                          ]
                        ],
                        "type": "heatmap"
                      }
                    ],
                    "histogram": [
                      {
                        "marker": {
                          "pattern": {
                            "fillmode": "overlay",
                            "size": 10,
                            "solidity": 0.2
                          }
                        },
                        "type": "histogram"
                      }
                    ],
                    "histogram2d": [
                      {
                        "colorbar": {
                          "outlinewidth": 0,
                          "ticks": ""
                        },
                        "colorscale": [
                          [
                            0,
                            "#0d0887"
                          ],
                          [
                            0.1111111111111111,
                            "#46039f"
                          ],
                          [
                            0.2222222222222222,
                            "#7201a8"
                          ],
                          [
                            0.3333333333333333,
                            "#9c179e"
                          ],
                          [
                            0.4444444444444444,
                            "#bd3786"
                          ],
                          [
                            0.5555555555555556,
                            "#d8576b"
                          ],
                          [
                            0.6666666666666666,
                            "#ed7953"
                          ],
                          [
                            0.7777777777777778,
                            "#fb9f3a"
                          ],
                          [
                            0.8888888888888888,
                            "#fdca26"
                          ],
                          [
                            1,
                            "#f0f921"
                          ]
                        ],
                        "type": "histogram2d"
                      }
                    ],
                    "histogram2dcontour": [
                      {
                        "colorbar": {
                          "outlinewidth": 0,
                          "ticks": ""
                        },
                        "colorscale": [
                          [
                            0,
                            "#0d0887"
                          ],
                          [
                            0.1111111111111111,
                            "#46039f"
                          ],
                          [
                            0.2222222222222222,
                            "#7201a8"
                          ],
                          [
                            0.3333333333333333,
                            "#9c179e"
                          ],
                          [
                            0.4444444444444444,
                            "#bd3786"
                          ],
                          [
                            0.5555555555555556,
                            "#d8576b"
                          ],
                          [
                            0.6666666666666666,
                            "#ed7953"
                          ],
                          [
                            0.7777777777777778,
                            "#fb9f3a"
                          ],
                          [
                            0.8888888888888888,
                            "#fdca26"
                          ],
                          [
                            1,
                            "#f0f921"
                          ]
                        ],
                        "type": "histogram2dcontour"
                      }
                    ],
                    "mesh3d": [
                      {
                        "colorbar": {
                          "outlinewidth": 0,
                          "ticks": ""
                        },
                        "type": "mesh3d"
                      }
                    ],
                    "parcoords": [
                      {
                        "line": {
                          "colorbar": {
                            "outlinewidth": 0,
                            "ticks": ""
                          }
                        },
                        "type": "parcoords"
                      }
                    ],
                    "pie": [
                      {
                        "automargin": true,
                        "type": "pie"
                      }
                    ],
                    "scatter": [
                      {
                        "fillpattern": {
                          "fillmode": "overlay",
                          "size": 10,
                          "solidity": 0.2
                        },
                        "type": "scatter"
                      }
                    ],
                    "scatter3d": [
                      {
                        "line": {
                          "colorbar": {
                            "outlinewidth": 0,
                            "ticks": ""
                          }
                        },
                        "marker": {
                          "colorbar": {
                            "outlinewidth": 0,
                            "ticks": ""
                          }
                        },
                        "type": "scatter3d"
                      }
                    ],
                    "scattercarpet": [
                      {
                        "marker": {
                          "colorbar": {
                            "outlinewidth": 0,
                            "ticks": ""
                          }
                        },
                        "type": "scattercarpet"
                      }
                    ],
                    "scattergeo": [
                      {
                        "marker": {
                          "colorbar": {
                            "outlinewidth": 0,
                            "ticks": ""
                          }
                        },
                        "type": "scattergeo"
                      }
                    ],
                    "scattergl": [
                      {
                        "marker": {
                          "colorbar": {
                            "outlinewidth": 0,
                            "ticks": ""
                          }
                        },
                        "type": "scattergl"
                      }
                    ],
                    "scattermap": [
                      {
                        "marker": {
                          "colorbar": {
                            "outlinewidth": 0,
                            "ticks": ""
                          }
                        },
                        "type": "scattermap"
                      }
                    ],
                    "scattermapbox": [
                      {
                        "marker": {
                          "colorbar": {
                            "outlinewidth": 0,
                            "ticks": ""
                          }
                        },
                        "type": "scattermapbox"
                      }
                    ],
                    "scatterpolar": [
                      {
                        "marker": {
                          "colorbar": {
                            "outlinewidth": 0,
                            "ticks": ""
                          }
                        },
                        "type": "scatterpolar"
                      }
                    ],
                    "scatterpolargl": [
                      {
                        "marker": {
                          "colorbar": {
                            "outlinewidth": 0,
                            "ticks": ""
                          }
                        },
                        "type": "scatterpolargl"
                      }
                    ],
                    "scatterternary": [
                      {
                        "marker": {
                          "colorbar": {
                            "outlinewidth": 0,
                            "ticks": ""
                          }
                        },
                        "type": "scatterternary"
                      }
                    ],
                    "surface": [
                      {
                        "colorbar": {
                          "outlinewidth": 0,
                          "ticks": ""
                        },
                        "colorscale": [
                          [
                            0,
                            "#0d0887"
                          ],
                          [
                            0.1111111111111111,
                            "#46039f"
                          ],
                          [
                            0.2222222222222222,
                            "#7201a8"
                          ],
                          [
                            0.3333333333333333,
                            "#9c179e"
                          ],
                          [
                            0.4444444444444444,
                            "#bd3786"
                          ],
                          [
                            0.5555555555555556,
                            "#d8576b"
                          ],
                          [
                            0.6666666666666666,
                            "#ed7953"
                          ],
                          [
                            0.7777777777777778,
                            "#fb9f3a"
                          ],
                          [
                            0.8888888888888888,
                            "#fdca26"
                          ],
                          [
                            1,
                            "#f0f921"
                          ]
                        ],
                        "type": "surface"
                      }
                    ],
                    "table": [
                      {
                        "cells": {
                          "fill": {
                            "color": "#EBF0F8"
                          },
                          "line": {
                            "color": "white"
                          }
                        },
                        "header": {
                          "fill": {
                            "color": "#C8D4E3"
                          },
                          "line": {
                            "color": "white"
                          }
                        },
                        "type": "table"
                      }
                    ]
                  },
                  "layout": {
                    "annotationdefaults": {
                      "arrowcolor": "#2a3f5f",
                      "arrowhead": 0,
                      "arrowwidth": 1
                    },
                    "autotypenumbers": "strict",
                    "coloraxis": {
                      "colorbar": {
                        "outlinewidth": 0,
                        "ticks": ""
                      }
                    },
                    "colorscale": {
                      "diverging": [
                        [
                          0,
                          "#8e0152"
                        ],
                        [
                          0.1,
                          "#c51b7d"
                        ],
                        [
                          0.2,
                          "#de77ae"
                        ],
                        [
                          0.3,
                          "#f1b6da"
                        ],
                        [
                          0.4,
                          "#fde0ef"
                        ],
                        [
                          0.5,
                          "#f7f7f7"
                        ],
                        [
                          0.6,
                          "#e6f5d0"
                        ],
                        [
                          0.7,
                          "#b8e186"
                        ],
                        [
                          0.8,
                          "#7fbc41"
                        ],
                        [
                          0.9,
                          "#4d9221"
                        ],
                        [
                          1,
                          "#276419"
                        ]
                      ],
                      "sequential": [
                        [
                          0,
                          "#0d0887"
                        ],
                        [
                          0.1111111111111111,
                          "#46039f"
                        ],
                        [
                          0.2222222222222222,
                          "#7201a8"
                        ],
                        [
                          0.3333333333333333,
                          "#9c179e"
                        ],
                        [
                          0.4444444444444444,
                          "#bd3786"
                        ],
                        [
                          0.5555555555555556,
                          "#d8576b"
                        ],
                        [
                          0.6666666666666666,
                          "#ed7953"
                        ],
                        [
                          0.7777777777777778,
                          "#fb9f3a"
                        ],
                        [
                          0.8888888888888888,
                          "#fdca26"
                        ],
                        [
                          1,
                          "#f0f921"
                        ]
                      ],
                      "sequentialminus": [
                        [
                          0,
                          "#0d0887"
                        ],
                        [
                          0.1111111111111111,
                          "#46039f"
                        ],
                        [
                          0.2222222222222222,
                          "#7201a8"
                        ],
                        [
                          0.3333333333333333,
                          "#9c179e"
                        ],
                        [
                          0.4444444444444444,
                          "#bd3786"
                        ],
                        [
                          0.5555555555555556,
                          "#d8576b"
                        ],
                        [
                          0.6666666666666666,
                          "#ed7953"
                        ],
                        [
                          0.7777777777777778,
                          "#fb9f3a"
                        ],
                        [
                          0.8888888888888888,
                          "#fdca26"
                        ],
                        [
                          1,
                          "#f0f921"
                        ]
                      ]
                    },
                    "colorway": [
                      "#636efa",
                      "#EF553B",
                      "#00cc96",
                      "#ab63fa",
                      "#FFA15A",
                      "#19d3f3",
                      "#FF6692",
                      "#B6E880",
                      "#FF97FF",
                      "#FECB52"
                    ],
                    "font": {
                      "color": "#2a3f5f"
                    },
                    "geo": {
                      "bgcolor": "white",
                      "lakecolor": "white",
                      "landcolor": "#E5ECF6",
                      "showlakes": true,
                      "showland": true,
                      "subunitcolor": "white"
                    },
                    "hoverlabel": {
                      "align": "left"
                    },
                    "hovermode": "closest",
                    "mapbox": {
                      "style": "light"
                    },
                    "paper_bgcolor": "white",
                    "plot_bgcolor": "#E5ECF6",
                    "polar": {
                      "angularaxis": {
                        "gridcolor": "white",
                        "linecolor": "white",
                        "ticks": ""
                      },
                      "bgcolor": "#E5ECF6",
                      "radialaxis": {
                        "gridcolor": "white",
                        "linecolor": "white",
                        "ticks": ""
                      }
                    },
                    "scene": {
                      "xaxis": {
                        "backgroundcolor": "#E5ECF6",
                        "gridcolor": "white",
                        "gridwidth": 2,
                        "linecolor": "white",
                        "showbackground": true,
                        "ticks": "",
                        "zerolinecolor": "white"
                      },
                      "yaxis": {
                        "backgroundcolor": "#E5ECF6",
                        "gridcolor": "white",
                        "gridwidth": 2,
                        "linecolor": "white",
                        "showbackground": true,
                        "ticks": "",
                        "zerolinecolor": "white"
                      },
                      "zaxis": {
                        "backgroundcolor": "#E5ECF6",
                        "gridcolor": "white",
                        "gridwidth": 2,
                        "linecolor": "white",
                        "showbackground": true,
                        "ticks": "",
                        "zerolinecolor": "white"
                      }
                    },
                    "shapedefaults": {
                      "line": {
                        "color": "#2a3f5f"
                      }
                    },
                    "ternary": {
                      "aaxis": {
                        "gridcolor": "white",
                        "linecolor": "white",
                        "ticks": ""
                      },
                      "baxis": {
                        "gridcolor": "white",
                        "linecolor": "white",
                        "ticks": ""
                      },
                      "bgcolor": "#E5ECF6",
                      "caxis": {
                        "gridcolor": "white",
                        "linecolor": "white",
                        "ticks": ""
                      }
                    },
                    "title": {
                      "x": 0.05
                    },
                    "xaxis": {
                      "automargin": true,
                      "gridcolor": "white",
                      "linecolor": "white",
                      "ticks": "",
                      "title": {
                        "standoff": 15
                      },
                      "zerolinecolor": "white",
                      "zerolinewidth": 2
                    },
                    "yaxis": {
                      "automargin": true,
                      "gridcolor": "white",
                      "linecolor": "white",
                      "ticks": "",
                      "title": {
                        "standoff": 15
                      },
                      "zerolinecolor": "white",
                      "zerolinewidth": 2
                    }
                  }
                },
                "title": {
                  "text": "Distribution plot for DWELL_TIME with & Without outliers for CASSELTON"
                },
                "width": 1000,
                "xaxis": {
                  "tickangle": -45,
                  "title": {
                    "text": "DWELL_TIME_BIN"
                  }
                },
                "yaxis": {
                  "title": {
                    "text": "Count of Train ID"
                  }
                }
              }
            }
          },
          "metadata": {},
          "output_type": "display_data"
        },
        {
          "data": {
            "application/vnd.plotly.v1+json": {
              "config": {
                "plotlyServerURL": "https://plot.ly"
              },
              "data": [
                {
                  "marker": {
                    "color": "blue"
                  },
                  "name": "DWELL_TIME_with_outliers",
                  "opacity": 0.7,
                  "text": [
                    "3",
                    "19",
                    "16",
                    "11",
                    "8",
                    "7",
                    "5",
                    "3",
                    "3",
                    "1",
                    "1",
                    "2",
                    "3",
                    "1",
                    "1",
                    "1",
                    "1",
                    "4"
                  ],
                  "textposition": "auto",
                  "type": "bar",
                  "x": [
                    "(0.0, 0.5]",
                    "(0.5, 1.0]",
                    "(1.0, 1.5]",
                    "(1.5, 2.0]",
                    "(2.0, 2.5]",
                    "(2.5, 3.0]",
                    "(3.0, 3.5]",
                    "(3.5, 4.0]",
                    "(4.0, 4.5]",
                    "(4.5, 5.0]",
                    "(5.0, 5.5]",
                    "(5.5, 6.0]",
                    "(6.0, 6.5]",
                    "(6.5, 7.0]",
                    "(7.5, 8.0]",
                    "(8.0, 8.5]",
                    "(9.0, 9.5]",
                    "(10.0, 11.0]"
                  ],
                  "y": [
                    3,
                    19,
                    16,
                    11,
                    8,
                    7,
                    5,
                    3,
                    3,
                    1,
                    1,
                    2,
                    3,
                    1,
                    1,
                    1,
                    1,
                    4
                  ]
                },
                {
                  "marker": {
                    "color": "red"
                  },
                  "name": "DWELL_TIME_without_outliers",
                  "opacity": 0.7,
                  "text": [
                    "0",
                    "19",
                    "16",
                    "11",
                    "8",
                    "7",
                    "0",
                    "0",
                    "0",
                    "0",
                    "0",
                    "0",
                    "0",
                    "0",
                    "0",
                    "0",
                    "0",
                    "0"
                  ],
                  "textposition": "auto",
                  "type": "bar",
                  "x": [
                    "(0.0, 0.5]",
                    "(0.5, 1.0]",
                    "(1.0, 1.5]",
                    "(1.5, 2.0]",
                    "(2.0, 2.5]",
                    "(2.5, 3.0]",
                    "(3.0, 3.5]",
                    "(3.5, 4.0]",
                    "(4.0, 4.5]",
                    "(4.5, 5.0]",
                    "(5.0, 5.5]",
                    "(5.5, 6.0]",
                    "(6.0, 6.5]",
                    "(6.5, 7.0]",
                    "(7.5, 8.0]",
                    "(8.0, 8.5]",
                    "(9.0, 9.5]",
                    "(10.0, 11.0]"
                  ],
                  "y": [
                    0,
                    19,
                    16,
                    11,
                    8,
                    7,
                    0,
                    0,
                    0,
                    0,
                    0,
                    0,
                    0,
                    0,
                    0,
                    0,
                    0,
                    0
                  ]
                }
              ],
              "layout": {
                "barmode": "group",
                "height": 600,
                "hovermode": "x unified",
                "template": {
                  "data": {
                    "bar": [
                      {
                        "error_x": {
                          "color": "#2a3f5f"
                        },
                        "error_y": {
                          "color": "#2a3f5f"
                        },
                        "marker": {
                          "line": {
                            "color": "#E5ECF6",
                            "width": 0.5
                          },
                          "pattern": {
                            "fillmode": "overlay",
                            "size": 10,
                            "solidity": 0.2
                          }
                        },
                        "type": "bar"
                      }
                    ],
                    "barpolar": [
                      {
                        "marker": {
                          "line": {
                            "color": "#E5ECF6",
                            "width": 0.5
                          },
                          "pattern": {
                            "fillmode": "overlay",
                            "size": 10,
                            "solidity": 0.2
                          }
                        },
                        "type": "barpolar"
                      }
                    ],
                    "carpet": [
                      {
                        "aaxis": {
                          "endlinecolor": "#2a3f5f",
                          "gridcolor": "white",
                          "linecolor": "white",
                          "minorgridcolor": "white",
                          "startlinecolor": "#2a3f5f"
                        },
                        "baxis": {
                          "endlinecolor": "#2a3f5f",
                          "gridcolor": "white",
                          "linecolor": "white",
                          "minorgridcolor": "white",
                          "startlinecolor": "#2a3f5f"
                        },
                        "type": "carpet"
                      }
                    ],
                    "choropleth": [
                      {
                        "colorbar": {
                          "outlinewidth": 0,
                          "ticks": ""
                        },
                        "type": "choropleth"
                      }
                    ],
                    "contour": [
                      {
                        "colorbar": {
                          "outlinewidth": 0,
                          "ticks": ""
                        },
                        "colorscale": [
                          [
                            0,
                            "#0d0887"
                          ],
                          [
                            0.1111111111111111,
                            "#46039f"
                          ],
                          [
                            0.2222222222222222,
                            "#7201a8"
                          ],
                          [
                            0.3333333333333333,
                            "#9c179e"
                          ],
                          [
                            0.4444444444444444,
                            "#bd3786"
                          ],
                          [
                            0.5555555555555556,
                            "#d8576b"
                          ],
                          [
                            0.6666666666666666,
                            "#ed7953"
                          ],
                          [
                            0.7777777777777778,
                            "#fb9f3a"
                          ],
                          [
                            0.8888888888888888,
                            "#fdca26"
                          ],
                          [
                            1,
                            "#f0f921"
                          ]
                        ],
                        "type": "contour"
                      }
                    ],
                    "contourcarpet": [
                      {
                        "colorbar": {
                          "outlinewidth": 0,
                          "ticks": ""
                        },
                        "type": "contourcarpet"
                      }
                    ],
                    "heatmap": [
                      {
                        "colorbar": {
                          "outlinewidth": 0,
                          "ticks": ""
                        },
                        "colorscale": [
                          [
                            0,
                            "#0d0887"
                          ],
                          [
                            0.1111111111111111,
                            "#46039f"
                          ],
                          [
                            0.2222222222222222,
                            "#7201a8"
                          ],
                          [
                            0.3333333333333333,
                            "#9c179e"
                          ],
                          [
                            0.4444444444444444,
                            "#bd3786"
                          ],
                          [
                            0.5555555555555556,
                            "#d8576b"
                          ],
                          [
                            0.6666666666666666,
                            "#ed7953"
                          ],
                          [
                            0.7777777777777778,
                            "#fb9f3a"
                          ],
                          [
                            0.8888888888888888,
                            "#fdca26"
                          ],
                          [
                            1,
                            "#f0f921"
                          ]
                        ],
                        "type": "heatmap"
                      }
                    ],
                    "histogram": [
                      {
                        "marker": {
                          "pattern": {
                            "fillmode": "overlay",
                            "size": 10,
                            "solidity": 0.2
                          }
                        },
                        "type": "histogram"
                      }
                    ],
                    "histogram2d": [
                      {
                        "colorbar": {
                          "outlinewidth": 0,
                          "ticks": ""
                        },
                        "colorscale": [
                          [
                            0,
                            "#0d0887"
                          ],
                          [
                            0.1111111111111111,
                            "#46039f"
                          ],
                          [
                            0.2222222222222222,
                            "#7201a8"
                          ],
                          [
                            0.3333333333333333,
                            "#9c179e"
                          ],
                          [
                            0.4444444444444444,
                            "#bd3786"
                          ],
                          [
                            0.5555555555555556,
                            "#d8576b"
                          ],
                          [
                            0.6666666666666666,
                            "#ed7953"
                          ],
                          [
                            0.7777777777777778,
                            "#fb9f3a"
                          ],
                          [
                            0.8888888888888888,
                            "#fdca26"
                          ],
                          [
                            1,
                            "#f0f921"
                          ]
                        ],
                        "type": "histogram2d"
                      }
                    ],
                    "histogram2dcontour": [
                      {
                        "colorbar": {
                          "outlinewidth": 0,
                          "ticks": ""
                        },
                        "colorscale": [
                          [
                            0,
                            "#0d0887"
                          ],
                          [
                            0.1111111111111111,
                            "#46039f"
                          ],
                          [
                            0.2222222222222222,
                            "#7201a8"
                          ],
                          [
                            0.3333333333333333,
                            "#9c179e"
                          ],
                          [
                            0.4444444444444444,
                            "#bd3786"
                          ],
                          [
                            0.5555555555555556,
                            "#d8576b"
                          ],
                          [
                            0.6666666666666666,
                            "#ed7953"
                          ],
                          [
                            0.7777777777777778,
                            "#fb9f3a"
                          ],
                          [
                            0.8888888888888888,
                            "#fdca26"
                          ],
                          [
                            1,
                            "#f0f921"
                          ]
                        ],
                        "type": "histogram2dcontour"
                      }
                    ],
                    "mesh3d": [
                      {
                        "colorbar": {
                          "outlinewidth": 0,
                          "ticks": ""
                        },
                        "type": "mesh3d"
                      }
                    ],
                    "parcoords": [
                      {
                        "line": {
                          "colorbar": {
                            "outlinewidth": 0,
                            "ticks": ""
                          }
                        },
                        "type": "parcoords"
                      }
                    ],
                    "pie": [
                      {
                        "automargin": true,
                        "type": "pie"
                      }
                    ],
                    "scatter": [
                      {
                        "fillpattern": {
                          "fillmode": "overlay",
                          "size": 10,
                          "solidity": 0.2
                        },
                        "type": "scatter"
                      }
                    ],
                    "scatter3d": [
                      {
                        "line": {
                          "colorbar": {
                            "outlinewidth": 0,
                            "ticks": ""
                          }
                        },
                        "marker": {
                          "colorbar": {
                            "outlinewidth": 0,
                            "ticks": ""
                          }
                        },
                        "type": "scatter3d"
                      }
                    ],
                    "scattercarpet": [
                      {
                        "marker": {
                          "colorbar": {
                            "outlinewidth": 0,
                            "ticks": ""
                          }
                        },
                        "type": "scattercarpet"
                      }
                    ],
                    "scattergeo": [
                      {
                        "marker": {
                          "colorbar": {
                            "outlinewidth": 0,
                            "ticks": ""
                          }
                        },
                        "type": "scattergeo"
                      }
                    ],
                    "scattergl": [
                      {
                        "marker": {
                          "colorbar": {
                            "outlinewidth": 0,
                            "ticks": ""
                          }
                        },
                        "type": "scattergl"
                      }
                    ],
                    "scattermap": [
                      {
                        "marker": {
                          "colorbar": {
                            "outlinewidth": 0,
                            "ticks": ""
                          }
                        },
                        "type": "scattermap"
                      }
                    ],
                    "scattermapbox": [
                      {
                        "marker": {
                          "colorbar": {
                            "outlinewidth": 0,
                            "ticks": ""
                          }
                        },
                        "type": "scattermapbox"
                      }
                    ],
                    "scatterpolar": [
                      {
                        "marker": {
                          "colorbar": {
                            "outlinewidth": 0,
                            "ticks": ""
                          }
                        },
                        "type": "scatterpolar"
                      }
                    ],
                    "scatterpolargl": [
                      {
                        "marker": {
                          "colorbar": {
                            "outlinewidth": 0,
                            "ticks": ""
                          }
                        },
                        "type": "scatterpolargl"
                      }
                    ],
                    "scatterternary": [
                      {
                        "marker": {
                          "colorbar": {
                            "outlinewidth": 0,
                            "ticks": ""
                          }
                        },
                        "type": "scatterternary"
                      }
                    ],
                    "surface": [
                      {
                        "colorbar": {
                          "outlinewidth": 0,
                          "ticks": ""
                        },
                        "colorscale": [
                          [
                            0,
                            "#0d0887"
                          ],
                          [
                            0.1111111111111111,
                            "#46039f"
                          ],
                          [
                            0.2222222222222222,
                            "#7201a8"
                          ],
                          [
                            0.3333333333333333,
                            "#9c179e"
                          ],
                          [
                            0.4444444444444444,
                            "#bd3786"
                          ],
                          [
                            0.5555555555555556,
                            "#d8576b"
                          ],
                          [
                            0.6666666666666666,
                            "#ed7953"
                          ],
                          [
                            0.7777777777777778,
                            "#fb9f3a"
                          ],
                          [
                            0.8888888888888888,
                            "#fdca26"
                          ],
                          [
                            1,
                            "#f0f921"
                          ]
                        ],
                        "type": "surface"
                      }
                    ],
                    "table": [
                      {
                        "cells": {
                          "fill": {
                            "color": "#EBF0F8"
                          },
                          "line": {
                            "color": "white"
                          }
                        },
                        "header": {
                          "fill": {
                            "color": "#C8D4E3"
                          },
                          "line": {
                            "color": "white"
                          }
                        },
                        "type": "table"
                      }
                    ]
                  },
                  "layout": {
                    "annotationdefaults": {
                      "arrowcolor": "#2a3f5f",
                      "arrowhead": 0,
                      "arrowwidth": 1
                    },
                    "autotypenumbers": "strict",
                    "coloraxis": {
                      "colorbar": {
                        "outlinewidth": 0,
                        "ticks": ""
                      }
                    },
                    "colorscale": {
                      "diverging": [
                        [
                          0,
                          "#8e0152"
                        ],
                        [
                          0.1,
                          "#c51b7d"
                        ],
                        [
                          0.2,
                          "#de77ae"
                        ],
                        [
                          0.3,
                          "#f1b6da"
                        ],
                        [
                          0.4,
                          "#fde0ef"
                        ],
                        [
                          0.5,
                          "#f7f7f7"
                        ],
                        [
                          0.6,
                          "#e6f5d0"
                        ],
                        [
                          0.7,
                          "#b8e186"
                        ],
                        [
                          0.8,
                          "#7fbc41"
                        ],
                        [
                          0.9,
                          "#4d9221"
                        ],
                        [
                          1,
                          "#276419"
                        ]
                      ],
                      "sequential": [
                        [
                          0,
                          "#0d0887"
                        ],
                        [
                          0.1111111111111111,
                          "#46039f"
                        ],
                        [
                          0.2222222222222222,
                          "#7201a8"
                        ],
                        [
                          0.3333333333333333,
                          "#9c179e"
                        ],
                        [
                          0.4444444444444444,
                          "#bd3786"
                        ],
                        [
                          0.5555555555555556,
                          "#d8576b"
                        ],
                        [
                          0.6666666666666666,
                          "#ed7953"
                        ],
                        [
                          0.7777777777777778,
                          "#fb9f3a"
                        ],
                        [
                          0.8888888888888888,
                          "#fdca26"
                        ],
                        [
                          1,
                          "#f0f921"
                        ]
                      ],
                      "sequentialminus": [
                        [
                          0,
                          "#0d0887"
                        ],
                        [
                          0.1111111111111111,
                          "#46039f"
                        ],
                        [
                          0.2222222222222222,
                          "#7201a8"
                        ],
                        [
                          0.3333333333333333,
                          "#9c179e"
                        ],
                        [
                          0.4444444444444444,
                          "#bd3786"
                        ],
                        [
                          0.5555555555555556,
                          "#d8576b"
                        ],
                        [
                          0.6666666666666666,
                          "#ed7953"
                        ],
                        [
                          0.7777777777777778,
                          "#fb9f3a"
                        ],
                        [
                          0.8888888888888888,
                          "#fdca26"
                        ],
                        [
                          1,
                          "#f0f921"
                        ]
                      ]
                    },
                    "colorway": [
                      "#636efa",
                      "#EF553B",
                      "#00cc96",
                      "#ab63fa",
                      "#FFA15A",
                      "#19d3f3",
                      "#FF6692",
                      "#B6E880",
                      "#FF97FF",
                      "#FECB52"
                    ],
                    "font": {
                      "color": "#2a3f5f"
                    },
                    "geo": {
                      "bgcolor": "white",
                      "lakecolor": "white",
                      "landcolor": "#E5ECF6",
                      "showlakes": true,
                      "showland": true,
                      "subunitcolor": "white"
                    },
                    "hoverlabel": {
                      "align": "left"
                    },
                    "hovermode": "closest",
                    "mapbox": {
                      "style": "light"
                    },
                    "paper_bgcolor": "white",
                    "plot_bgcolor": "#E5ECF6",
                    "polar": {
                      "angularaxis": {
                        "gridcolor": "white",
                        "linecolor": "white",
                        "ticks": ""
                      },
                      "bgcolor": "#E5ECF6",
                      "radialaxis": {
                        "gridcolor": "white",
                        "linecolor": "white",
                        "ticks": ""
                      }
                    },
                    "scene": {
                      "xaxis": {
                        "backgroundcolor": "#E5ECF6",
                        "gridcolor": "white",
                        "gridwidth": 2,
                        "linecolor": "white",
                        "showbackground": true,
                        "ticks": "",
                        "zerolinecolor": "white"
                      },
                      "yaxis": {
                        "backgroundcolor": "#E5ECF6",
                        "gridcolor": "white",
                        "gridwidth": 2,
                        "linecolor": "white",
                        "showbackground": true,
                        "ticks": "",
                        "zerolinecolor": "white"
                      },
                      "zaxis": {
                        "backgroundcolor": "#E5ECF6",
                        "gridcolor": "white",
                        "gridwidth": 2,
                        "linecolor": "white",
                        "showbackground": true,
                        "ticks": "",
                        "zerolinecolor": "white"
                      }
                    },
                    "shapedefaults": {
                      "line": {
                        "color": "#2a3f5f"
                      }
                    },
                    "ternary": {
                      "aaxis": {
                        "gridcolor": "white",
                        "linecolor": "white",
                        "ticks": ""
                      },
                      "baxis": {
                        "gridcolor": "white",
                        "linecolor": "white",
                        "ticks": ""
                      },
                      "bgcolor": "#E5ECF6",
                      "caxis": {
                        "gridcolor": "white",
                        "linecolor": "white",
                        "ticks": ""
                      }
                    },
                    "title": {
                      "x": 0.05
                    },
                    "xaxis": {
                      "automargin": true,
                      "gridcolor": "white",
                      "linecolor": "white",
                      "ticks": "",
                      "title": {
                        "standoff": 15
                      },
                      "zerolinecolor": "white",
                      "zerolinewidth": 2
                    },
                    "yaxis": {
                      "automargin": true,
                      "gridcolor": "white",
                      "linecolor": "white",
                      "ticks": "",
                      "title": {
                        "standoff": 15
                      },
                      "zerolinecolor": "white",
                      "zerolinewidth": 2
                    }
                  }
                },
                "title": {
                  "text": "Distribution plot for DWELL_TIME with & Without outliers for HAMBERG"
                },
                "width": 1000,
                "xaxis": {
                  "tickangle": -45,
                  "title": {
                    "text": "DWELL_TIME_BIN"
                  }
                },
                "yaxis": {
                  "title": {
                    "text": "Count of Train ID"
                  }
                }
              }
            }
          },
          "metadata": {},
          "output_type": "display_data"
        },
        {
          "data": {
            "application/vnd.plotly.v1+json": {
              "config": {
                "plotlyServerURL": "https://plot.ly"
              },
              "data": [
                {
                  "marker": {
                    "color": "blue"
                  },
                  "name": "DWELL_TIME_with_outliers",
                  "opacity": 0.7,
                  "text": [
                    "1",
                    "17",
                    "13",
                    "12",
                    "8",
                    "3",
                    "5",
                    "6",
                    "1",
                    "1",
                    "5",
                    "1",
                    "1",
                    "1",
                    "1",
                    "1",
                    "2",
                    "2",
                    "1",
                    "1",
                    "1"
                  ],
                  "textposition": "auto",
                  "type": "bar",
                  "x": [
                    "(0.0, 0.5]",
                    "(0.5, 1.0]",
                    "(1.0, 1.5]",
                    "(1.5, 2.0]",
                    "(2.0, 2.5]",
                    "(2.5, 3.0]",
                    "(3.0, 3.5]",
                    "(3.5, 4.0]",
                    "(4.0, 4.5]",
                    "(4.5, 5.0]",
                    "(5.0, 5.5]",
                    "(5.5, 6.0]",
                    "(6.0, 6.5]",
                    "(6.5, 7.0]",
                    "(8.0, 8.5]",
                    "(8.5, 9.0]",
                    "(10.0, 11.0]",
                    "(13.0, 14.0]",
                    "(14.0, 15.0]",
                    "(20.0, 25.0]",
                    "(30.0, 35.0]"
                  ],
                  "y": [
                    1,
                    17,
                    13,
                    12,
                    8,
                    3,
                    5,
                    6,
                    1,
                    1,
                    5,
                    1,
                    1,
                    1,
                    1,
                    1,
                    2,
                    2,
                    1,
                    1,
                    1
                  ]
                },
                {
                  "marker": {
                    "color": "red"
                  },
                  "name": "DWELL_TIME_without_outliers",
                  "opacity": 0.7,
                  "text": [
                    "0",
                    "17",
                    "13",
                    "12",
                    "8",
                    "3",
                    "0",
                    "0",
                    "0",
                    "0",
                    "0",
                    "0",
                    "0",
                    "0",
                    "0",
                    "0",
                    "0",
                    "0",
                    "0",
                    "0",
                    "0"
                  ],
                  "textposition": "auto",
                  "type": "bar",
                  "x": [
                    "(0.0, 0.5]",
                    "(0.5, 1.0]",
                    "(1.0, 1.5]",
                    "(1.5, 2.0]",
                    "(2.0, 2.5]",
                    "(2.5, 3.0]",
                    "(3.0, 3.5]",
                    "(3.5, 4.0]",
                    "(4.0, 4.5]",
                    "(4.5, 5.0]",
                    "(5.0, 5.5]",
                    "(5.5, 6.0]",
                    "(6.0, 6.5]",
                    "(6.5, 7.0]",
                    "(8.0, 8.5]",
                    "(8.5, 9.0]",
                    "(10.0, 11.0]",
                    "(13.0, 14.0]",
                    "(14.0, 15.0]",
                    "(20.0, 25.0]",
                    "(30.0, 35.0]"
                  ],
                  "y": [
                    0,
                    17,
                    13,
                    12,
                    8,
                    3,
                    0,
                    0,
                    0,
                    0,
                    0,
                    0,
                    0,
                    0,
                    0,
                    0,
                    0,
                    0,
                    0,
                    0,
                    0
                  ]
                }
              ],
              "layout": {
                "barmode": "group",
                "height": 600,
                "hovermode": "x unified",
                "template": {
                  "data": {
                    "bar": [
                      {
                        "error_x": {
                          "color": "#2a3f5f"
                        },
                        "error_y": {
                          "color": "#2a3f5f"
                        },
                        "marker": {
                          "line": {
                            "color": "#E5ECF6",
                            "width": 0.5
                          },
                          "pattern": {
                            "fillmode": "overlay",
                            "size": 10,
                            "solidity": 0.2
                          }
                        },
                        "type": "bar"
                      }
                    ],
                    "barpolar": [
                      {
                        "marker": {
                          "line": {
                            "color": "#E5ECF6",
                            "width": 0.5
                          },
                          "pattern": {
                            "fillmode": "overlay",
                            "size": 10,
                            "solidity": 0.2
                          }
                        },
                        "type": "barpolar"
                      }
                    ],
                    "carpet": [
                      {
                        "aaxis": {
                          "endlinecolor": "#2a3f5f",
                          "gridcolor": "white",
                          "linecolor": "white",
                          "minorgridcolor": "white",
                          "startlinecolor": "#2a3f5f"
                        },
                        "baxis": {
                          "endlinecolor": "#2a3f5f",
                          "gridcolor": "white",
                          "linecolor": "white",
                          "minorgridcolor": "white",
                          "startlinecolor": "#2a3f5f"
                        },
                        "type": "carpet"
                      }
                    ],
                    "choropleth": [
                      {
                        "colorbar": {
                          "outlinewidth": 0,
                          "ticks": ""
                        },
                        "type": "choropleth"
                      }
                    ],
                    "contour": [
                      {
                        "colorbar": {
                          "outlinewidth": 0,
                          "ticks": ""
                        },
                        "colorscale": [
                          [
                            0,
                            "#0d0887"
                          ],
                          [
                            0.1111111111111111,
                            "#46039f"
                          ],
                          [
                            0.2222222222222222,
                            "#7201a8"
                          ],
                          [
                            0.3333333333333333,
                            "#9c179e"
                          ],
                          [
                            0.4444444444444444,
                            "#bd3786"
                          ],
                          [
                            0.5555555555555556,
                            "#d8576b"
                          ],
                          [
                            0.6666666666666666,
                            "#ed7953"
                          ],
                          [
                            0.7777777777777778,
                            "#fb9f3a"
                          ],
                          [
                            0.8888888888888888,
                            "#fdca26"
                          ],
                          [
                            1,
                            "#f0f921"
                          ]
                        ],
                        "type": "contour"
                      }
                    ],
                    "contourcarpet": [
                      {
                        "colorbar": {
                          "outlinewidth": 0,
                          "ticks": ""
                        },
                        "type": "contourcarpet"
                      }
                    ],
                    "heatmap": [
                      {
                        "colorbar": {
                          "outlinewidth": 0,
                          "ticks": ""
                        },
                        "colorscale": [
                          [
                            0,
                            "#0d0887"
                          ],
                          [
                            0.1111111111111111,
                            "#46039f"
                          ],
                          [
                            0.2222222222222222,
                            "#7201a8"
                          ],
                          [
                            0.3333333333333333,
                            "#9c179e"
                          ],
                          [
                            0.4444444444444444,
                            "#bd3786"
                          ],
                          [
                            0.5555555555555556,
                            "#d8576b"
                          ],
                          [
                            0.6666666666666666,
                            "#ed7953"
                          ],
                          [
                            0.7777777777777778,
                            "#fb9f3a"
                          ],
                          [
                            0.8888888888888888,
                            "#fdca26"
                          ],
                          [
                            1,
                            "#f0f921"
                          ]
                        ],
                        "type": "heatmap"
                      }
                    ],
                    "histogram": [
                      {
                        "marker": {
                          "pattern": {
                            "fillmode": "overlay",
                            "size": 10,
                            "solidity": 0.2
                          }
                        },
                        "type": "histogram"
                      }
                    ],
                    "histogram2d": [
                      {
                        "colorbar": {
                          "outlinewidth": 0,
                          "ticks": ""
                        },
                        "colorscale": [
                          [
                            0,
                            "#0d0887"
                          ],
                          [
                            0.1111111111111111,
                            "#46039f"
                          ],
                          [
                            0.2222222222222222,
                            "#7201a8"
                          ],
                          [
                            0.3333333333333333,
                            "#9c179e"
                          ],
                          [
                            0.4444444444444444,
                            "#bd3786"
                          ],
                          [
                            0.5555555555555556,
                            "#d8576b"
                          ],
                          [
                            0.6666666666666666,
                            "#ed7953"
                          ],
                          [
                            0.7777777777777778,
                            "#fb9f3a"
                          ],
                          [
                            0.8888888888888888,
                            "#fdca26"
                          ],
                          [
                            1,
                            "#f0f921"
                          ]
                        ],
                        "type": "histogram2d"
                      }
                    ],
                    "histogram2dcontour": [
                      {
                        "colorbar": {
                          "outlinewidth": 0,
                          "ticks": ""
                        },
                        "colorscale": [
                          [
                            0,
                            "#0d0887"
                          ],
                          [
                            0.1111111111111111,
                            "#46039f"
                          ],
                          [
                            0.2222222222222222,
                            "#7201a8"
                          ],
                          [
                            0.3333333333333333,
                            "#9c179e"
                          ],
                          [
                            0.4444444444444444,
                            "#bd3786"
                          ],
                          [
                            0.5555555555555556,
                            "#d8576b"
                          ],
                          [
                            0.6666666666666666,
                            "#ed7953"
                          ],
                          [
                            0.7777777777777778,
                            "#fb9f3a"
                          ],
                          [
                            0.8888888888888888,
                            "#fdca26"
                          ],
                          [
                            1,
                            "#f0f921"
                          ]
                        ],
                        "type": "histogram2dcontour"
                      }
                    ],
                    "mesh3d": [
                      {
                        "colorbar": {
                          "outlinewidth": 0,
                          "ticks": ""
                        },
                        "type": "mesh3d"
                      }
                    ],
                    "parcoords": [
                      {
                        "line": {
                          "colorbar": {
                            "outlinewidth": 0,
                            "ticks": ""
                          }
                        },
                        "type": "parcoords"
                      }
                    ],
                    "pie": [
                      {
                        "automargin": true,
                        "type": "pie"
                      }
                    ],
                    "scatter": [
                      {
                        "fillpattern": {
                          "fillmode": "overlay",
                          "size": 10,
                          "solidity": 0.2
                        },
                        "type": "scatter"
                      }
                    ],
                    "scatter3d": [
                      {
                        "line": {
                          "colorbar": {
                            "outlinewidth": 0,
                            "ticks": ""
                          }
                        },
                        "marker": {
                          "colorbar": {
                            "outlinewidth": 0,
                            "ticks": ""
                          }
                        },
                        "type": "scatter3d"
                      }
                    ],
                    "scattercarpet": [
                      {
                        "marker": {
                          "colorbar": {
                            "outlinewidth": 0,
                            "ticks": ""
                          }
                        },
                        "type": "scattercarpet"
                      }
                    ],
                    "scattergeo": [
                      {
                        "marker": {
                          "colorbar": {
                            "outlinewidth": 0,
                            "ticks": ""
                          }
                        },
                        "type": "scattergeo"
                      }
                    ],
                    "scattergl": [
                      {
                        "marker": {
                          "colorbar": {
                            "outlinewidth": 0,
                            "ticks": ""
                          }
                        },
                        "type": "scattergl"
                      }
                    ],
                    "scattermap": [
                      {
                        "marker": {
                          "colorbar": {
                            "outlinewidth": 0,
                            "ticks": ""
                          }
                        },
                        "type": "scattermap"
                      }
                    ],
                    "scattermapbox": [
                      {
                        "marker": {
                          "colorbar": {
                            "outlinewidth": 0,
                            "ticks": ""
                          }
                        },
                        "type": "scattermapbox"
                      }
                    ],
                    "scatterpolar": [
                      {
                        "marker": {
                          "colorbar": {
                            "outlinewidth": 0,
                            "ticks": ""
                          }
                        },
                        "type": "scatterpolar"
                      }
                    ],
                    "scatterpolargl": [
                      {
                        "marker": {
                          "colorbar": {
                            "outlinewidth": 0,
                            "ticks": ""
                          }
                        },
                        "type": "scatterpolargl"
                      }
                    ],
                    "scatterternary": [
                      {
                        "marker": {
                          "colorbar": {
                            "outlinewidth": 0,
                            "ticks": ""
                          }
                        },
                        "type": "scatterternary"
                      }
                    ],
                    "surface": [
                      {
                        "colorbar": {
                          "outlinewidth": 0,
                          "ticks": ""
                        },
                        "colorscale": [
                          [
                            0,
                            "#0d0887"
                          ],
                          [
                            0.1111111111111111,
                            "#46039f"
                          ],
                          [
                            0.2222222222222222,
                            "#7201a8"
                          ],
                          [
                            0.3333333333333333,
                            "#9c179e"
                          ],
                          [
                            0.4444444444444444,
                            "#bd3786"
                          ],
                          [
                            0.5555555555555556,
                            "#d8576b"
                          ],
                          [
                            0.6666666666666666,
                            "#ed7953"
                          ],
                          [
                            0.7777777777777778,
                            "#fb9f3a"
                          ],
                          [
                            0.8888888888888888,
                            "#fdca26"
                          ],
                          [
                            1,
                            "#f0f921"
                          ]
                        ],
                        "type": "surface"
                      }
                    ],
                    "table": [
                      {
                        "cells": {
                          "fill": {
                            "color": "#EBF0F8"
                          },
                          "line": {
                            "color": "white"
                          }
                        },
                        "header": {
                          "fill": {
                            "color": "#C8D4E3"
                          },
                          "line": {
                            "color": "white"
                          }
                        },
                        "type": "table"
                      }
                    ]
                  },
                  "layout": {
                    "annotationdefaults": {
                      "arrowcolor": "#2a3f5f",
                      "arrowhead": 0,
                      "arrowwidth": 1
                    },
                    "autotypenumbers": "strict",
                    "coloraxis": {
                      "colorbar": {
                        "outlinewidth": 0,
                        "ticks": ""
                      }
                    },
                    "colorscale": {
                      "diverging": [
                        [
                          0,
                          "#8e0152"
                        ],
                        [
                          0.1,
                          "#c51b7d"
                        ],
                        [
                          0.2,
                          "#de77ae"
                        ],
                        [
                          0.3,
                          "#f1b6da"
                        ],
                        [
                          0.4,
                          "#fde0ef"
                        ],
                        [
                          0.5,
                          "#f7f7f7"
                        ],
                        [
                          0.6,
                          "#e6f5d0"
                        ],
                        [
                          0.7,
                          "#b8e186"
                        ],
                        [
                          0.8,
                          "#7fbc41"
                        ],
                        [
                          0.9,
                          "#4d9221"
                        ],
                        [
                          1,
                          "#276419"
                        ]
                      ],
                      "sequential": [
                        [
                          0,
                          "#0d0887"
                        ],
                        [
                          0.1111111111111111,
                          "#46039f"
                        ],
                        [
                          0.2222222222222222,
                          "#7201a8"
                        ],
                        [
                          0.3333333333333333,
                          "#9c179e"
                        ],
                        [
                          0.4444444444444444,
                          "#bd3786"
                        ],
                        [
                          0.5555555555555556,
                          "#d8576b"
                        ],
                        [
                          0.6666666666666666,
                          "#ed7953"
                        ],
                        [
                          0.7777777777777778,
                          "#fb9f3a"
                        ],
                        [
                          0.8888888888888888,
                          "#fdca26"
                        ],
                        [
                          1,
                          "#f0f921"
                        ]
                      ],
                      "sequentialminus": [
                        [
                          0,
                          "#0d0887"
                        ],
                        [
                          0.1111111111111111,
                          "#46039f"
                        ],
                        [
                          0.2222222222222222,
                          "#7201a8"
                        ],
                        [
                          0.3333333333333333,
                          "#9c179e"
                        ],
                        [
                          0.4444444444444444,
                          "#bd3786"
                        ],
                        [
                          0.5555555555555556,
                          "#d8576b"
                        ],
                        [
                          0.6666666666666666,
                          "#ed7953"
                        ],
                        [
                          0.7777777777777778,
                          "#fb9f3a"
                        ],
                        [
                          0.8888888888888888,
                          "#fdca26"
                        ],
                        [
                          1,
                          "#f0f921"
                        ]
                      ]
                    },
                    "colorway": [
                      "#636efa",
                      "#EF553B",
                      "#00cc96",
                      "#ab63fa",
                      "#FFA15A",
                      "#19d3f3",
                      "#FF6692",
                      "#B6E880",
                      "#FF97FF",
                      "#FECB52"
                    ],
                    "font": {
                      "color": "#2a3f5f"
                    },
                    "geo": {
                      "bgcolor": "white",
                      "lakecolor": "white",
                      "landcolor": "#E5ECF6",
                      "showlakes": true,
                      "showland": true,
                      "subunitcolor": "white"
                    },
                    "hoverlabel": {
                      "align": "left"
                    },
                    "hovermode": "closest",
                    "mapbox": {
                      "style": "light"
                    },
                    "paper_bgcolor": "white",
                    "plot_bgcolor": "#E5ECF6",
                    "polar": {
                      "angularaxis": {
                        "gridcolor": "white",
                        "linecolor": "white",
                        "ticks": ""
                      },
                      "bgcolor": "#E5ECF6",
                      "radialaxis": {
                        "gridcolor": "white",
                        "linecolor": "white",
                        "ticks": ""
                      }
                    },
                    "scene": {
                      "xaxis": {
                        "backgroundcolor": "#E5ECF6",
                        "gridcolor": "white",
                        "gridwidth": 2,
                        "linecolor": "white",
                        "showbackground": true,
                        "ticks": "",
                        "zerolinecolor": "white"
                      },
                      "yaxis": {
                        "backgroundcolor": "#E5ECF6",
                        "gridcolor": "white",
                        "gridwidth": 2,
                        "linecolor": "white",
                        "showbackground": true,
                        "ticks": "",
                        "zerolinecolor": "white"
                      },
                      "zaxis": {
                        "backgroundcolor": "#E5ECF6",
                        "gridcolor": "white",
                        "gridwidth": 2,
                        "linecolor": "white",
                        "showbackground": true,
                        "ticks": "",
                        "zerolinecolor": "white"
                      }
                    },
                    "shapedefaults": {
                      "line": {
                        "color": "#2a3f5f"
                      }
                    },
                    "ternary": {
                      "aaxis": {
                        "gridcolor": "white",
                        "linecolor": "white",
                        "ticks": ""
                      },
                      "baxis": {
                        "gridcolor": "white",
                        "linecolor": "white",
                        "ticks": ""
                      },
                      "bgcolor": "#E5ECF6",
                      "caxis": {
                        "gridcolor": "white",
                        "linecolor": "white",
                        "ticks": ""
                      }
                    },
                    "title": {
                      "x": 0.05
                    },
                    "xaxis": {
                      "automargin": true,
                      "gridcolor": "white",
                      "linecolor": "white",
                      "ticks": "",
                      "title": {
                        "standoff": 15
                      },
                      "zerolinecolor": "white",
                      "zerolinewidth": 2
                    },
                    "yaxis": {
                      "automargin": true,
                      "gridcolor": "white",
                      "linecolor": "white",
                      "ticks": "",
                      "title": {
                        "standoff": 15
                      },
                      "zerolinecolor": "white",
                      "zerolinewidth": 2
                    }
                  }
                },
                "title": {
                  "text": "Distribution plot for DWELL_TIME with & Without outliers for PILLSBURY"
                },
                "width": 1000,
                "xaxis": {
                  "tickangle": -45,
                  "title": {
                    "text": "DWELL_TIME_BIN"
                  }
                },
                "yaxis": {
                  "title": {
                    "text": "Count of Train ID"
                  }
                }
              }
            }
          },
          "metadata": {},
          "output_type": "display_data"
        },
        {
          "data": {
            "application/vnd.plotly.v1+json": {
              "config": {
                "plotlyServerURL": "https://plot.ly"
              },
              "data": [
                {
                  "marker": {
                    "color": "blue"
                  },
                  "name": "DWELL_TIME_with_outliers",
                  "opacity": 0.7,
                  "text": [
                    "28",
                    "18",
                    "8",
                    "5",
                    "10",
                    "2",
                    "3",
                    "1",
                    "1",
                    "1",
                    "1",
                    "1"
                  ],
                  "textposition": "auto",
                  "type": "bar",
                  "x": [
                    "(0.5, 1.0]",
                    "(1.0, 1.5]",
                    "(1.5, 2.0]",
                    "(2.0, 2.5]",
                    "(2.5, 3.0]",
                    "(3.0, 3.5]",
                    "(4.0, 4.5]",
                    "(4.5, 5.0]",
                    "(8.0, 8.5]",
                    "(12.0, 13.0]",
                    "(13.0, 14.0]",
                    "(19.0, 20.0]"
                  ],
                  "y": [
                    28,
                    18,
                    8,
                    5,
                    10,
                    2,
                    3,
                    1,
                    1,
                    1,
                    1,
                    1
                  ]
                },
                {
                  "marker": {
                    "color": "red"
                  },
                  "name": "DWELL_TIME_without_outliers",
                  "opacity": 0.7,
                  "text": [
                    "28",
                    "18",
                    "8",
                    "5",
                    "10",
                    "0",
                    "0",
                    "0",
                    "0",
                    "0",
                    "0",
                    "0"
                  ],
                  "textposition": "auto",
                  "type": "bar",
                  "x": [
                    "(0.5, 1.0]",
                    "(1.0, 1.5]",
                    "(1.5, 2.0]",
                    "(2.0, 2.5]",
                    "(2.5, 3.0]",
                    "(3.0, 3.5]",
                    "(4.0, 4.5]",
                    "(4.5, 5.0]",
                    "(8.0, 8.5]",
                    "(12.0, 13.0]",
                    "(13.0, 14.0]",
                    "(19.0, 20.0]"
                  ],
                  "y": [
                    28,
                    18,
                    8,
                    5,
                    10,
                    0,
                    0,
                    0,
                    0,
                    0,
                    0,
                    0
                  ]
                }
              ],
              "layout": {
                "barmode": "group",
                "height": 600,
                "hovermode": "x unified",
                "template": {
                  "data": {
                    "bar": [
                      {
                        "error_x": {
                          "color": "#2a3f5f"
                        },
                        "error_y": {
                          "color": "#2a3f5f"
                        },
                        "marker": {
                          "line": {
                            "color": "#E5ECF6",
                            "width": 0.5
                          },
                          "pattern": {
                            "fillmode": "overlay",
                            "size": 10,
                            "solidity": 0.2
                          }
                        },
                        "type": "bar"
                      }
                    ],
                    "barpolar": [
                      {
                        "marker": {
                          "line": {
                            "color": "#E5ECF6",
                            "width": 0.5
                          },
                          "pattern": {
                            "fillmode": "overlay",
                            "size": 10,
                            "solidity": 0.2
                          }
                        },
                        "type": "barpolar"
                      }
                    ],
                    "carpet": [
                      {
                        "aaxis": {
                          "endlinecolor": "#2a3f5f",
                          "gridcolor": "white",
                          "linecolor": "white",
                          "minorgridcolor": "white",
                          "startlinecolor": "#2a3f5f"
                        },
                        "baxis": {
                          "endlinecolor": "#2a3f5f",
                          "gridcolor": "white",
                          "linecolor": "white",
                          "minorgridcolor": "white",
                          "startlinecolor": "#2a3f5f"
                        },
                        "type": "carpet"
                      }
                    ],
                    "choropleth": [
                      {
                        "colorbar": {
                          "outlinewidth": 0,
                          "ticks": ""
                        },
                        "type": "choropleth"
                      }
                    ],
                    "contour": [
                      {
                        "colorbar": {
                          "outlinewidth": 0,
                          "ticks": ""
                        },
                        "colorscale": [
                          [
                            0,
                            "#0d0887"
                          ],
                          [
                            0.1111111111111111,
                            "#46039f"
                          ],
                          [
                            0.2222222222222222,
                            "#7201a8"
                          ],
                          [
                            0.3333333333333333,
                            "#9c179e"
                          ],
                          [
                            0.4444444444444444,
                            "#bd3786"
                          ],
                          [
                            0.5555555555555556,
                            "#d8576b"
                          ],
                          [
                            0.6666666666666666,
                            "#ed7953"
                          ],
                          [
                            0.7777777777777778,
                            "#fb9f3a"
                          ],
                          [
                            0.8888888888888888,
                            "#fdca26"
                          ],
                          [
                            1,
                            "#f0f921"
                          ]
                        ],
                        "type": "contour"
                      }
                    ],
                    "contourcarpet": [
                      {
                        "colorbar": {
                          "outlinewidth": 0,
                          "ticks": ""
                        },
                        "type": "contourcarpet"
                      }
                    ],
                    "heatmap": [
                      {
                        "colorbar": {
                          "outlinewidth": 0,
                          "ticks": ""
                        },
                        "colorscale": [
                          [
                            0,
                            "#0d0887"
                          ],
                          [
                            0.1111111111111111,
                            "#46039f"
                          ],
                          [
                            0.2222222222222222,
                            "#7201a8"
                          ],
                          [
                            0.3333333333333333,
                            "#9c179e"
                          ],
                          [
                            0.4444444444444444,
                            "#bd3786"
                          ],
                          [
                            0.5555555555555556,
                            "#d8576b"
                          ],
                          [
                            0.6666666666666666,
                            "#ed7953"
                          ],
                          [
                            0.7777777777777778,
                            "#fb9f3a"
                          ],
                          [
                            0.8888888888888888,
                            "#fdca26"
                          ],
                          [
                            1,
                            "#f0f921"
                          ]
                        ],
                        "type": "heatmap"
                      }
                    ],
                    "histogram": [
                      {
                        "marker": {
                          "pattern": {
                            "fillmode": "overlay",
                            "size": 10,
                            "solidity": 0.2
                          }
                        },
                        "type": "histogram"
                      }
                    ],
                    "histogram2d": [
                      {
                        "colorbar": {
                          "outlinewidth": 0,
                          "ticks": ""
                        },
                        "colorscale": [
                          [
                            0,
                            "#0d0887"
                          ],
                          [
                            0.1111111111111111,
                            "#46039f"
                          ],
                          [
                            0.2222222222222222,
                            "#7201a8"
                          ],
                          [
                            0.3333333333333333,
                            "#9c179e"
                          ],
                          [
                            0.4444444444444444,
                            "#bd3786"
                          ],
                          [
                            0.5555555555555556,
                            "#d8576b"
                          ],
                          [
                            0.6666666666666666,
                            "#ed7953"
                          ],
                          [
                            0.7777777777777778,
                            "#fb9f3a"
                          ],
                          [
                            0.8888888888888888,
                            "#fdca26"
                          ],
                          [
                            1,
                            "#f0f921"
                          ]
                        ],
                        "type": "histogram2d"
                      }
                    ],
                    "histogram2dcontour": [
                      {
                        "colorbar": {
                          "outlinewidth": 0,
                          "ticks": ""
                        },
                        "colorscale": [
                          [
                            0,
                            "#0d0887"
                          ],
                          [
                            0.1111111111111111,
                            "#46039f"
                          ],
                          [
                            0.2222222222222222,
                            "#7201a8"
                          ],
                          [
                            0.3333333333333333,
                            "#9c179e"
                          ],
                          [
                            0.4444444444444444,
                            "#bd3786"
                          ],
                          [
                            0.5555555555555556,
                            "#d8576b"
                          ],
                          [
                            0.6666666666666666,
                            "#ed7953"
                          ],
                          [
                            0.7777777777777778,
                            "#fb9f3a"
                          ],
                          [
                            0.8888888888888888,
                            "#fdca26"
                          ],
                          [
                            1,
                            "#f0f921"
                          ]
                        ],
                        "type": "histogram2dcontour"
                      }
                    ],
                    "mesh3d": [
                      {
                        "colorbar": {
                          "outlinewidth": 0,
                          "ticks": ""
                        },
                        "type": "mesh3d"
                      }
                    ],
                    "parcoords": [
                      {
                        "line": {
                          "colorbar": {
                            "outlinewidth": 0,
                            "ticks": ""
                          }
                        },
                        "type": "parcoords"
                      }
                    ],
                    "pie": [
                      {
                        "automargin": true,
                        "type": "pie"
                      }
                    ],
                    "scatter": [
                      {
                        "fillpattern": {
                          "fillmode": "overlay",
                          "size": 10,
                          "solidity": 0.2
                        },
                        "type": "scatter"
                      }
                    ],
                    "scatter3d": [
                      {
                        "line": {
                          "colorbar": {
                            "outlinewidth": 0,
                            "ticks": ""
                          }
                        },
                        "marker": {
                          "colorbar": {
                            "outlinewidth": 0,
                            "ticks": ""
                          }
                        },
                        "type": "scatter3d"
                      }
                    ],
                    "scattercarpet": [
                      {
                        "marker": {
                          "colorbar": {
                            "outlinewidth": 0,
                            "ticks": ""
                          }
                        },
                        "type": "scattercarpet"
                      }
                    ],
                    "scattergeo": [
                      {
                        "marker": {
                          "colorbar": {
                            "outlinewidth": 0,
                            "ticks": ""
                          }
                        },
                        "type": "scattergeo"
                      }
                    ],
                    "scattergl": [
                      {
                        "marker": {
                          "colorbar": {
                            "outlinewidth": 0,
                            "ticks": ""
                          }
                        },
                        "type": "scattergl"
                      }
                    ],
                    "scattermap": [
                      {
                        "marker": {
                          "colorbar": {
                            "outlinewidth": 0,
                            "ticks": ""
                          }
                        },
                        "type": "scattermap"
                      }
                    ],
                    "scattermapbox": [
                      {
                        "marker": {
                          "colorbar": {
                            "outlinewidth": 0,
                            "ticks": ""
                          }
                        },
                        "type": "scattermapbox"
                      }
                    ],
                    "scatterpolar": [
                      {
                        "marker": {
                          "colorbar": {
                            "outlinewidth": 0,
                            "ticks": ""
                          }
                        },
                        "type": "scatterpolar"
                      }
                    ],
                    "scatterpolargl": [
                      {
                        "marker": {
                          "colorbar": {
                            "outlinewidth": 0,
                            "ticks": ""
                          }
                        },
                        "type": "scatterpolargl"
                      }
                    ],
                    "scatterternary": [
                      {
                        "marker": {
                          "colorbar": {
                            "outlinewidth": 0,
                            "ticks": ""
                          }
                        },
                        "type": "scatterternary"
                      }
                    ],
                    "surface": [
                      {
                        "colorbar": {
                          "outlinewidth": 0,
                          "ticks": ""
                        },
                        "colorscale": [
                          [
                            0,
                            "#0d0887"
                          ],
                          [
                            0.1111111111111111,
                            "#46039f"
                          ],
                          [
                            0.2222222222222222,
                            "#7201a8"
                          ],
                          [
                            0.3333333333333333,
                            "#9c179e"
                          ],
                          [
                            0.4444444444444444,
                            "#bd3786"
                          ],
                          [
                            0.5555555555555556,
                            "#d8576b"
                          ],
                          [
                            0.6666666666666666,
                            "#ed7953"
                          ],
                          [
                            0.7777777777777778,
                            "#fb9f3a"
                          ],
                          [
                            0.8888888888888888,
                            "#fdca26"
                          ],
                          [
                            1,
                            "#f0f921"
                          ]
                        ],
                        "type": "surface"
                      }
                    ],
                    "table": [
                      {
                        "cells": {
                          "fill": {
                            "color": "#EBF0F8"
                          },
                          "line": {
                            "color": "white"
                          }
                        },
                        "header": {
                          "fill": {
                            "color": "#C8D4E3"
                          },
                          "line": {
                            "color": "white"
                          }
                        },
                        "type": "table"
                      }
                    ]
                  },
                  "layout": {
                    "annotationdefaults": {
                      "arrowcolor": "#2a3f5f",
                      "arrowhead": 0,
                      "arrowwidth": 1
                    },
                    "autotypenumbers": "strict",
                    "coloraxis": {
                      "colorbar": {
                        "outlinewidth": 0,
                        "ticks": ""
                      }
                    },
                    "colorscale": {
                      "diverging": [
                        [
                          0,
                          "#8e0152"
                        ],
                        [
                          0.1,
                          "#c51b7d"
                        ],
                        [
                          0.2,
                          "#de77ae"
                        ],
                        [
                          0.3,
                          "#f1b6da"
                        ],
                        [
                          0.4,
                          "#fde0ef"
                        ],
                        [
                          0.5,
                          "#f7f7f7"
                        ],
                        [
                          0.6,
                          "#e6f5d0"
                        ],
                        [
                          0.7,
                          "#b8e186"
                        ],
                        [
                          0.8,
                          "#7fbc41"
                        ],
                        [
                          0.9,
                          "#4d9221"
                        ],
                        [
                          1,
                          "#276419"
                        ]
                      ],
                      "sequential": [
                        [
                          0,
                          "#0d0887"
                        ],
                        [
                          0.1111111111111111,
                          "#46039f"
                        ],
                        [
                          0.2222222222222222,
                          "#7201a8"
                        ],
                        [
                          0.3333333333333333,
                          "#9c179e"
                        ],
                        [
                          0.4444444444444444,
                          "#bd3786"
                        ],
                        [
                          0.5555555555555556,
                          "#d8576b"
                        ],
                        [
                          0.6666666666666666,
                          "#ed7953"
                        ],
                        [
                          0.7777777777777778,
                          "#fb9f3a"
                        ],
                        [
                          0.8888888888888888,
                          "#fdca26"
                        ],
                        [
                          1,
                          "#f0f921"
                        ]
                      ],
                      "sequentialminus": [
                        [
                          0,
                          "#0d0887"
                        ],
                        [
                          0.1111111111111111,
                          "#46039f"
                        ],
                        [
                          0.2222222222222222,
                          "#7201a8"
                        ],
                        [
                          0.3333333333333333,
                          "#9c179e"
                        ],
                        [
                          0.4444444444444444,
                          "#bd3786"
                        ],
                        [
                          0.5555555555555556,
                          "#d8576b"
                        ],
                        [
                          0.6666666666666666,
                          "#ed7953"
                        ],
                        [
                          0.7777777777777778,
                          "#fb9f3a"
                        ],
                        [
                          0.8888888888888888,
                          "#fdca26"
                        ],
                        [
                          1,
                          "#f0f921"
                        ]
                      ]
                    },
                    "colorway": [
                      "#636efa",
                      "#EF553B",
                      "#00cc96",
                      "#ab63fa",
                      "#FFA15A",
                      "#19d3f3",
                      "#FF6692",
                      "#B6E880",
                      "#FF97FF",
                      "#FECB52"
                    ],
                    "font": {
                      "color": "#2a3f5f"
                    },
                    "geo": {
                      "bgcolor": "white",
                      "lakecolor": "white",
                      "landcolor": "#E5ECF6",
                      "showlakes": true,
                      "showland": true,
                      "subunitcolor": "white"
                    },
                    "hoverlabel": {
                      "align": "left"
                    },
                    "hovermode": "closest",
                    "mapbox": {
                      "style": "light"
                    },
                    "paper_bgcolor": "white",
                    "plot_bgcolor": "#E5ECF6",
                    "polar": {
                      "angularaxis": {
                        "gridcolor": "white",
                        "linecolor": "white",
                        "ticks": ""
                      },
                      "bgcolor": "#E5ECF6",
                      "radialaxis": {
                        "gridcolor": "white",
                        "linecolor": "white",
                        "ticks": ""
                      }
                    },
                    "scene": {
                      "xaxis": {
                        "backgroundcolor": "#E5ECF6",
                        "gridcolor": "white",
                        "gridwidth": 2,
                        "linecolor": "white",
                        "showbackground": true,
                        "ticks": "",
                        "zerolinecolor": "white"
                      },
                      "yaxis": {
                        "backgroundcolor": "#E5ECF6",
                        "gridcolor": "white",
                        "gridwidth": 2,
                        "linecolor": "white",
                        "showbackground": true,
                        "ticks": "",
                        "zerolinecolor": "white"
                      },
                      "zaxis": {
                        "backgroundcolor": "#E5ECF6",
                        "gridcolor": "white",
                        "gridwidth": 2,
                        "linecolor": "white",
                        "showbackground": true,
                        "ticks": "",
                        "zerolinecolor": "white"
                      }
                    },
                    "shapedefaults": {
                      "line": {
                        "color": "#2a3f5f"
                      }
                    },
                    "ternary": {
                      "aaxis": {
                        "gridcolor": "white",
                        "linecolor": "white",
                        "ticks": ""
                      },
                      "baxis": {
                        "gridcolor": "white",
                        "linecolor": "white",
                        "ticks": ""
                      },
                      "bgcolor": "#E5ECF6",
                      "caxis": {
                        "gridcolor": "white",
                        "linecolor": "white",
                        "ticks": ""
                      }
                    },
                    "title": {
                      "x": 0.05
                    },
                    "xaxis": {
                      "automargin": true,
                      "gridcolor": "white",
                      "linecolor": "white",
                      "ticks": "",
                      "title": {
                        "standoff": 15
                      },
                      "zerolinecolor": "white",
                      "zerolinewidth": 2
                    },
                    "yaxis": {
                      "automargin": true,
                      "gridcolor": "white",
                      "linecolor": "white",
                      "ticks": "",
                      "title": {
                        "standoff": 15
                      },
                      "zerolinecolor": "white",
                      "zerolinewidth": 2
                    }
                  }
                },
                "title": {
                  "text": "Distribution plot for DWELL_TIME with & Without outliers for FARGO"
                },
                "width": 1000,
                "xaxis": {
                  "tickangle": -45,
                  "title": {
                    "text": "DWELL_TIME_BIN"
                  }
                },
                "yaxis": {
                  "title": {
                    "text": "Count of Train ID"
                  }
                }
              }
            }
          },
          "metadata": {},
          "output_type": "display_data"
        }
      ],
      "source": [
        "# Function to plot for any destination\n",
        "def plot_destination(destination_name):\n",
        "\n",
        "    # Filter data for destination\n",
        "    dest_data = df[df['DESTINATION'] == destination_name]\n",
        "\n",
        "    # Count total trains for this destination\n",
        "    total_trains_with = dest_data['TRAIN_ID'].nunique()\n",
        "    total_trains_without = dest_data[dest_data['IS_OUTLIER'] == False]['TRAIN_ID'].nunique()\n",
        "\n",
        "    # Count per bin\n",
        "    counts_with = dest_data.groupby('DWELL_TIME_BIN', observed=False)['TRAIN_ID'].nunique()\n",
        "    counts_without = dest_data[dest_data['IS_OUTLIER'] == False].groupby('DWELL_TIME_BIN', observed=False)['TRAIN_ID'].nunique()\n",
        "\n",
        "    # Get bins that have data for this destination (for plotting)\n",
        "    bins_with_data = sorted(set(counts_with[counts_with > 0].index) | set(counts_without[counts_without > 0].index))\n",
        "\n",
        "    # Create figure\n",
        "    fig = go.Figure()\n",
        "\n",
        "    # Add bars for with outliers\n",
        "    fig.add_trace(go.Bar(\n",
        "        name='DWELL_TIME_with_outliers',\n",
        "        x=[str(interval) for interval in bins_with_data],\n",
        "        y=[counts_with.get(bin, 0) for bin in bins_with_data],\n",
        "        marker_color='blue',\n",
        "        opacity=0.7,\n",
        "        text=[counts_with.get(bin, 0) for bin in bins_with_data],\n",
        "        textposition='auto'\n",
        "    ))\n",
        "\n",
        "    # Add bars for without outliers\n",
        "    fig.add_trace(go.Bar(\n",
        "        name='DWELL_TIME_without_outliers',\n",
        "        x=[str(interval) for interval in bins_with_data],\n",
        "        y=[counts_without.get(bin, 0) for bin in bins_with_data],\n",
        "        marker_color='red',\n",
        "        opacity=0.7,\n",
        "        text=[counts_without.get(bin, 0) for bin in bins_with_data],\n",
        "        textposition='auto'\n",
        "    ))\n",
        "\n",
        "    # Update layout\n",
        "    fig.update_layout(\n",
        "        title=f'Distribution plot for DWELL_TIME with & Without outliers for {destination_name}',\n",
        "        xaxis_title='DWELL_TIME_BIN',\n",
        "        yaxis_title='Count of Train ID',\n",
        "        barmode='group',\n",
        "        xaxis_tickangle=-45,\n",
        "        height=600,\n",
        "        width=1000,\n",
        "        hovermode='x unified'\n",
        "    )\n",
        "\n",
        "    fig.show()\n",
        "\n",
        "# Plot for each destination\n",
        "destinations = ['BISBEE', 'CASSELTON', 'HAMBERG', 'PILLSBURY', 'FARGO']\n",
        "for dest in destinations:\n",
        "    plot_destination(dest)"
      ]
    },
    {
      "cell_type": "code",
      "execution_count": null,
      "id": "628c543f",
      "metadata": {
        "id": "628c543f",
        "outputId": "0fb0ad30-b37d-4910-ee6d-bd398d8998b4"
      },
      "outputs": [
        {
          "data": {
            "text/html": [
              "<div>\n",
              "<style scoped>\n",
              "    .dataframe tbody tr th:only-of-type {\n",
              "        vertical-align: middle;\n",
              "    }\n",
              "\n",
              "    .dataframe tbody tr th {\n",
              "        vertical-align: top;\n",
              "    }\n",
              "\n",
              "    .dataframe thead th {\n",
              "        text-align: right;\n",
              "    }\n",
              "</style>\n",
              "<table border=\"1\" class=\"dataframe\">\n",
              "  <thead>\n",
              "    <tr style=\"text-align: right;\">\n",
              "      <th></th>\n",
              "      <th>TRAIN_ID</th>\n",
              "      <th>STN_333</th>\n",
              "      <th>STN_ST</th>\n",
              "      <th>STN_TYPE_CD</th>\n",
              "      <th>STN_SEQ_NBR</th>\n",
              "      <th>TRN_MILES_TOT_TD</th>\n",
              "      <th>crew_order</th>\n",
              "      <th>DPT_DIR</th>\n",
              "      <th>REQ_INSP</th>\n",
              "      <th>case</th>\n",
              "      <th>...</th>\n",
              "      <th>ArrivalDestination</th>\n",
              "      <th>TRN_MILES_TOT_DEST</th>\n",
              "      <th>STN_SEQ_NBR_DEST</th>\n",
              "      <th>DISTANCE</th>\n",
              "      <th>LAST_CREW_STATION</th>\n",
              "      <th>SECOND_LAST_CREW_STATION</th>\n",
              "      <th>TRAVEL_TIME</th>\n",
              "      <th>DWELL_TIME</th>\n",
              "      <th>DWELL_TIME_BIN</th>\n",
              "      <th>IS_OUTLIER</th>\n",
              "    </tr>\n",
              "  </thead>\n",
              "  <tbody>\n",
              "    <tr>\n",
              "      <th>0</th>\n",
              "      <td>XBERBSB928H2021-05-28</td>\n",
              "      <td>MINOT</td>\n",
              "      <td>ND</td>\n",
              "      <td>C</td>\n",
              "      <td>40</td>\n",
              "      <td>22.7</td>\n",
              "      <td>1</td>\n",
              "      <td>E</td>\n",
              "      <td>N</td>\n",
              "      <td>General</td>\n",
              "      <td>...</td>\n",
              "      <td>2021-05-30T11:07:00-05:00</td>\n",
              "      <td>149.4</td>\n",
              "      <td>210</td>\n",
              "      <td>126.7</td>\n",
              "      <td>MINOT</td>\n",
              "      <td>GLASGOW</td>\n",
              "      <td>5.750</td>\n",
              "      <td>0.300</td>\n",
              "      <td>(0.0, 0.5]</td>\n",
              "      <td>True</td>\n",
              "    </tr>\n",
              "    <tr>\n",
              "      <th>1</th>\n",
              "      <td>XKAHKND911H2024-08-11</td>\n",
              "      <td>MINOT</td>\n",
              "      <td>ND</td>\n",
              "      <td>C</td>\n",
              "      <td>50</td>\n",
              "      <td>31.0</td>\n",
              "      <td>1</td>\n",
              "      <td>E</td>\n",
              "      <td>N</td>\n",
              "      <td>General</td>\n",
              "      <td>...</td>\n",
              "      <td>2024-08-12T16:07:00-05:00</td>\n",
              "      <td>248.4</td>\n",
              "      <td>330</td>\n",
              "      <td>217.4</td>\n",
              "      <td>MINOT</td>\n",
              "      <td>GLASGOW</td>\n",
              "      <td>8.400</td>\n",
              "      <td>3.417</td>\n",
              "      <td>(3.0, 3.5]</td>\n",
              "      <td>True</td>\n",
              "    </tr>\n",
              "    <tr>\n",
              "      <th>2</th>\n",
              "      <td>XCROBSB921A2023-09-21</td>\n",
              "      <td>MINOT</td>\n",
              "      <td>ND</td>\n",
              "      <td>C</td>\n",
              "      <td>90</td>\n",
              "      <td>63.6</td>\n",
              "      <td>1</td>\n",
              "      <td>E</td>\n",
              "      <td>N</td>\n",
              "      <td>General</td>\n",
              "      <td>...</td>\n",
              "      <td>2023-09-22T02:34:00-05:00</td>\n",
              "      <td>190.3</td>\n",
              "      <td>260</td>\n",
              "      <td>126.7</td>\n",
              "      <td>MINOT</td>\n",
              "      <td>GLASGOW</td>\n",
              "      <td>5.750</td>\n",
              "      <td>0.933</td>\n",
              "      <td>(0.5, 1.0]</td>\n",
              "      <td>False</td>\n",
              "    </tr>\n",
              "    <tr>\n",
              "      <th>3</th>\n",
              "      <td>XCROEGE922A2023-09-22</td>\n",
              "      <td>MINOT</td>\n",
              "      <td>ND</td>\n",
              "      <td>C</td>\n",
              "      <td>90</td>\n",
              "      <td>63.6</td>\n",
              "      <td>1</td>\n",
              "      <td>E</td>\n",
              "      <td>N</td>\n",
              "      <td>General</td>\n",
              "      <td>...</td>\n",
              "      <td>2023-09-23T01:07:00-05:00</td>\n",
              "      <td>281.0</td>\n",
              "      <td>370</td>\n",
              "      <td>217.4</td>\n",
              "      <td>MINOT</td>\n",
              "      <td>GLASGOW</td>\n",
              "      <td>5.500</td>\n",
              "      <td>1.017</td>\n",
              "      <td>(1.0, 1.5]</td>\n",
              "      <td>False</td>\n",
              "    </tr>\n",
              "    <tr>\n",
              "      <th>4</th>\n",
              "      <td>XCROHBG919A2023-09-19</td>\n",
              "      <td>MINOT</td>\n",
              "      <td>ND</td>\n",
              "      <td>C</td>\n",
              "      <td>90</td>\n",
              "      <td>63.6</td>\n",
              "      <td>1</td>\n",
              "      <td>E</td>\n",
              "      <td>N</td>\n",
              "      <td>General</td>\n",
              "      <td>...</td>\n",
              "      <td>2023-09-19T19:30:00-05:00</td>\n",
              "      <td>154.9</td>\n",
              "      <td>210</td>\n",
              "      <td>91.3</td>\n",
              "      <td>MINOT</td>\n",
              "      <td>GLASGOW</td>\n",
              "      <td>1.750</td>\n",
              "      <td>1.400</td>\n",
              "      <td>(1.0, 1.5]</td>\n",
              "      <td>False</td>\n",
              "    </tr>\n",
              "    <tr>\n",
              "      <th>...</th>\n",
              "      <td>...</td>\n",
              "      <td>...</td>\n",
              "      <td>...</td>\n",
              "      <td>...</td>\n",
              "      <td>...</td>\n",
              "      <td>...</td>\n",
              "      <td>...</td>\n",
              "      <td>...</td>\n",
              "      <td>...</td>\n",
              "      <td>...</td>\n",
              "      <td>...</td>\n",
              "      <td>...</td>\n",
              "      <td>...</td>\n",
              "      <td>...</td>\n",
              "      <td>...</td>\n",
              "      <td>...</td>\n",
              "      <td>...</td>\n",
              "      <td>...</td>\n",
              "      <td>...</td>\n",
              "      <td>...</td>\n",
              "      <td>...</td>\n",
              "    </tr>\n",
              "    <tr>\n",
              "      <th>688</th>\n",
              "      <td>XVAWBRE905H2021-09-05</td>\n",
              "      <td>MINOT</td>\n",
              "      <td>ND</td>\n",
              "      <td>C</td>\n",
              "      <td>2420</td>\n",
              "      <td>1465.3</td>\n",
              "      <td>1</td>\n",
              "      <td>E</td>\n",
              "      <td>N</td>\n",
              "      <td>General</td>\n",
              "      <td>...</td>\n",
              "      <td>2021-09-09T15:51:00-05:00</td>\n",
              "      <td>1682.7</td>\n",
              "      <td>2700</td>\n",
              "      <td>217.4</td>\n",
              "      <td>MINOT</td>\n",
              "      <td>GLASGOW</td>\n",
              "      <td>7.433</td>\n",
              "      <td>2.050</td>\n",
              "      <td>(2.0, 2.5]</td>\n",
              "      <td>False</td>\n",
              "    </tr>\n",
              "    <tr>\n",
              "      <th>689</th>\n",
              "      <td>XRGTCSN905H2024-08-05</td>\n",
              "      <td>MINOT</td>\n",
              "      <td>ND</td>\n",
              "      <td>C</td>\n",
              "      <td>2460</td>\n",
              "      <td>1468.0</td>\n",
              "      <td>1</td>\n",
              "      <td>E</td>\n",
              "      <td>N</td>\n",
              "      <td>General</td>\n",
              "      <td>...</td>\n",
              "      <td>2024-08-11T04:22:00-05:00</td>\n",
              "      <td>1685.4</td>\n",
              "      <td>2740</td>\n",
              "      <td>217.4</td>\n",
              "      <td>MINOT</td>\n",
              "      <td>GLASGOW</td>\n",
              "      <td>6.200</td>\n",
              "      <td>1.417</td>\n",
              "      <td>(1.0, 1.5]</td>\n",
              "      <td>False</td>\n",
              "    </tr>\n",
              "    <tr>\n",
              "      <th>690</th>\n",
              "      <td>XRGTHBG927H2021-03-27</td>\n",
              "      <td>MINOT</td>\n",
              "      <td>ND</td>\n",
              "      <td>C</td>\n",
              "      <td>2460</td>\n",
              "      <td>1468.0</td>\n",
              "      <td>1</td>\n",
              "      <td>E</td>\n",
              "      <td>N</td>\n",
              "      <td>General</td>\n",
              "      <td>...</td>\n",
              "      <td>2021-04-03T00:56:00-05:00</td>\n",
              "      <td>1559.3</td>\n",
              "      <td>2580</td>\n",
              "      <td>91.3</td>\n",
              "      <td>MINOT</td>\n",
              "      <td>GLASGOW</td>\n",
              "      <td>3.100</td>\n",
              "      <td>1.383</td>\n",
              "      <td>(1.0, 1.5]</td>\n",
              "      <td>False</td>\n",
              "    </tr>\n",
              "    <tr>\n",
              "      <th>691</th>\n",
              "      <td>XRGTHBG926H2020-11-26</td>\n",
              "      <td>MINOT</td>\n",
              "      <td>ND</td>\n",
              "      <td>C</td>\n",
              "      <td>2460</td>\n",
              "      <td>1468.0</td>\n",
              "      <td>1</td>\n",
              "      <td>E</td>\n",
              "      <td>N</td>\n",
              "      <td>General</td>\n",
              "      <td>...</td>\n",
              "      <td>2020-11-29T07:41:00-06:00</td>\n",
              "      <td>1559.3</td>\n",
              "      <td>2580</td>\n",
              "      <td>91.3</td>\n",
              "      <td>MINOT</td>\n",
              "      <td>GLASGOW</td>\n",
              "      <td>1.767</td>\n",
              "      <td>2.183</td>\n",
              "      <td>(2.0, 2.5]</td>\n",
              "      <td>False</td>\n",
              "    </tr>\n",
              "    <tr>\n",
              "      <th>692</th>\n",
              "      <td>XRGTHBG905H2021-03-05</td>\n",
              "      <td>MINOT</td>\n",
              "      <td>ND</td>\n",
              "      <td>C</td>\n",
              "      <td>2460</td>\n",
              "      <td>1468.0</td>\n",
              "      <td>1</td>\n",
              "      <td>E</td>\n",
              "      <td>N</td>\n",
              "      <td>General</td>\n",
              "      <td>...</td>\n",
              "      <td>2021-03-09T07:52:00-06:00</td>\n",
              "      <td>1559.3</td>\n",
              "      <td>2580</td>\n",
              "      <td>91.3</td>\n",
              "      <td>MINOT</td>\n",
              "      <td>GLASGOW</td>\n",
              "      <td>1.883</td>\n",
              "      <td>1.750</td>\n",
              "      <td>(1.5, 2.0]</td>\n",
              "      <td>False</td>\n",
              "    </tr>\n",
              "  </tbody>\n",
              "</table>\n",
              "<p>693 rows × 23 columns</p>\n",
              "</div>"
            ],
            "text/plain": [
              "                  TRAIN_ID STN_333 STN_ST STN_TYPE_CD  STN_SEQ_NBR  \\\n",
              "0    XBERBSB928H2021-05-28   MINOT     ND           C           40   \n",
              "1    XKAHKND911H2024-08-11   MINOT     ND           C           50   \n",
              "2    XCROBSB921A2023-09-21   MINOT     ND           C           90   \n",
              "3    XCROEGE922A2023-09-22   MINOT     ND           C           90   \n",
              "4    XCROHBG919A2023-09-19   MINOT     ND           C           90   \n",
              "..                     ...     ...    ...         ...          ...   \n",
              "688  XVAWBRE905H2021-09-05   MINOT     ND           C         2420   \n",
              "689  XRGTCSN905H2024-08-05   MINOT     ND           C         2460   \n",
              "690  XRGTHBG927H2021-03-27   MINOT     ND           C         2460   \n",
              "691  XRGTHBG926H2020-11-26   MINOT     ND           C         2460   \n",
              "692  XRGTHBG905H2021-03-05   MINOT     ND           C         2460   \n",
              "\n",
              "     TRN_MILES_TOT_TD  crew_order DPT_DIR REQ_INSP     case  ...  \\\n",
              "0                22.7           1       E        N  General  ...   \n",
              "1                31.0           1       E        N  General  ...   \n",
              "2                63.6           1       E        N  General  ...   \n",
              "3                63.6           1       E        N  General  ...   \n",
              "4                63.6           1       E        N  General  ...   \n",
              "..                ...         ...     ...      ...      ...  ...   \n",
              "688            1465.3           1       E        N  General  ...   \n",
              "689            1468.0           1       E        N  General  ...   \n",
              "690            1468.0           1       E        N  General  ...   \n",
              "691            1468.0           1       E        N  General  ...   \n",
              "692            1468.0           1       E        N  General  ...   \n",
              "\n",
              "            ArrivalDestination TRN_MILES_TOT_DEST STN_SEQ_NBR_DEST DISTANCE  \\\n",
              "0    2021-05-30T11:07:00-05:00              149.4              210    126.7   \n",
              "1    2024-08-12T16:07:00-05:00              248.4              330    217.4   \n",
              "2    2023-09-22T02:34:00-05:00              190.3              260    126.7   \n",
              "3    2023-09-23T01:07:00-05:00              281.0              370    217.4   \n",
              "4    2023-09-19T19:30:00-05:00              154.9              210     91.3   \n",
              "..                         ...                ...              ...      ...   \n",
              "688  2021-09-09T15:51:00-05:00             1682.7             2700    217.4   \n",
              "689  2024-08-11T04:22:00-05:00             1685.4             2740    217.4   \n",
              "690  2021-04-03T00:56:00-05:00             1559.3             2580     91.3   \n",
              "691  2020-11-29T07:41:00-06:00             1559.3             2580     91.3   \n",
              "692  2021-03-09T07:52:00-06:00             1559.3             2580     91.3   \n",
              "\n",
              "     LAST_CREW_STATION  SECOND_LAST_CREW_STATION  TRAVEL_TIME DWELL_TIME  \\\n",
              "0                MINOT                   GLASGOW        5.750      0.300   \n",
              "1                MINOT                   GLASGOW        8.400      3.417   \n",
              "2                MINOT                   GLASGOW        5.750      0.933   \n",
              "3                MINOT                   GLASGOW        5.500      1.017   \n",
              "4                MINOT                   GLASGOW        1.750      1.400   \n",
              "..                 ...                       ...          ...        ...   \n",
              "688              MINOT                   GLASGOW        7.433      2.050   \n",
              "689              MINOT                   GLASGOW        6.200      1.417   \n",
              "690              MINOT                   GLASGOW        3.100      1.383   \n",
              "691              MINOT                   GLASGOW        1.767      2.183   \n",
              "692              MINOT                   GLASGOW        1.883      1.750   \n",
              "\n",
              "    DWELL_TIME_BIN  IS_OUTLIER  \n",
              "0       (0.0, 0.5]        True  \n",
              "1       (3.0, 3.5]        True  \n",
              "2       (0.5, 1.0]       False  \n",
              "3       (1.0, 1.5]       False  \n",
              "4       (1.0, 1.5]       False  \n",
              "..             ...         ...  \n",
              "688     (2.0, 2.5]       False  \n",
              "689     (1.0, 1.5]       False  \n",
              "690     (1.0, 1.5]       False  \n",
              "691     (2.0, 2.5]       False  \n",
              "692     (1.5, 2.0]       False  \n",
              "\n",
              "[693 rows x 23 columns]"
            ]
          },
          "execution_count": 17,
          "metadata": {},
          "output_type": "execute_result"
        }
      ],
      "source": [
        "# Add outlier detection to dataframe based on dwell time bins.\n",
        "#Parameters:\n",
        "    #Input dataframe with columns including 'TRAIN_ID', 'DWELL_TIME', and 'TD'\n",
        "    #Output : Same dataframe with added columns 'DWELL_TIME_BIN' and 'IS_OUTLIER'\n",
        "\n",
        "def outlier_detection(df):\n",
        "\n",
        "    # Extract date and split data\n",
        "    df['DATE'] = pd.to_datetime(df['TD'].str.extract(r'(\\d{4}-\\d{2}-\\d{2})')[0])\n",
        "    split_date = pd.to_datetime('2024-01-01')\n",
        "    train_df = df[df['DATE'] < split_date].copy()\n",
        "\n",
        "    # Define bins\n",
        "    bins = np.concatenate([\n",
        "        np.arange(0, 10.5, 0.5),\n",
        "        np.arange(11, 21, 1),\n",
        "        np.arange(25, 145, 5)\n",
        "    ])\n",
        "\n",
        "    # Assign bins\n",
        "    df['DWELL_TIME_BIN'] = pd.cut(df['DWELL_TIME'], bins=bins)\n",
        "    train_df['DWELL_TIME_BIN'] = pd.cut(train_df['DWELL_TIME'], bins=bins)\n",
        "\n",
        "    # Create bins df and count trains\n",
        "    bins_df = pd.DataFrame({'BIN_RANGE': pd.IntervalIndex.from_breaks(bins, closed='right')})\n",
        "    train_counts = train_df.groupby('DWELL_TIME_BIN', observed=False)['TRAIN_ID'].nunique()\n",
        "    bins_df['NB_TRAINS'] = bins_df['BIN_RANGE'].map(train_counts).fillna(0).astype(int)\n",
        "\n",
        "    # Find threshold and bounds\n",
        "    threshold = int(np.ceil(train_df['TRAIN_ID'].nunique() * 0.05))\n",
        "    bins_above_threshold = bins_df[bins_df['NB_TRAINS'] >= threshold]\n",
        "    lower_bound = bins_above_threshold.iloc[0]['BIN_RANGE'].left\n",
        "    upper_bound = bins_above_threshold.iloc[-1]['BIN_RANGE'].right\n",
        "\n",
        "    # Add outlier flag\n",
        "    df['IS_OUTLIER'] = (df['DWELL_TIME'] < lower_bound) | (df['DWELL_TIME'] > upper_bound)\n",
        "\n",
        "    # Drop temporary DATE column created earlier to split the data in train and test\n",
        "    df = df.drop('DATE', axis=1)\n",
        "\n",
        "    return df\n",
        "\n",
        "outlier_detection(df)"
      ]
    }
  ],
  "metadata": {
    "kernelspec": {
      "display_name": "venv",
      "language": "python",
      "name": "python3"
    },
    "language_info": {
      "codemirror_mode": {
        "name": "ipython",
        "version": 3
      },
      "file_extension": ".py",
      "mimetype": "text/x-python",
      "name": "python",
      "nbconvert_exporter": "python",
      "pygments_lexer": "ipython3",
      "version": "3.13.3"
    },
    "colab": {
      "provenance": []
    }
  },
  "nbformat": 4,
  "nbformat_minor": 5
}